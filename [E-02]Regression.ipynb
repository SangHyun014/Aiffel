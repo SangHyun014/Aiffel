{
 "cells": [
  {
   "cell_type": "markdown",
   "id": "29314014",
   "metadata": {},
   "source": [
    "# E-02"
   ]
  },
  {
   "cell_type": "markdown",
   "id": "ca0af91e",
   "metadata": {},
   "source": [
    "1. Project 1의 회귀모델 예측정확도가 기준이상 높게 나왔는가?\n",
    " - MSE 손실함수값 3000 이하를 달성\n",
    " \n",
    "2. Project 2의 회귀모델 예측정확도가 기준이상 높게 나왔는가?\n",
    " - RMSe 값 150이하를 달성\n",
    " \n",
    "3. 시각화 요구사항이 정확하게 이루어졌는가?\n",
    " - 각 프로젝트 진행과정에서 요구하고 있는 데이터 개수 시각화 및 예측결과 시각화를 모두 진행"
   ]
  },
  {
   "cell_type": "markdown",
   "id": "793e22ef",
   "metadata": {},
   "source": [
    "# Project1 : 손수 설계하는 선형회귀, 당뇨병 수치를 맞춰보자!"
   ]
  },
  {
   "cell_type": "markdown",
   "id": "1051c003",
   "metadata": {},
   "source": [
    "(1) 데이터 가져오기\n",
    "\n",
    "(2) 모델에 입력할 데이터 X 준비하기\n",
    "\n",
    "(3) 모델에 예측할 데이터 y 준비하기\n",
    "\n",
    "(4) train 데이터와 test 데이터로 분리하기\n",
    "\n",
    "(5) 모델 준비하기\n",
    "\n",
    "(6) 손실함수 loss 정의하기\n",
    "\n",
    "(7) 기울기를 구하는 gradient 함수 구현하기\n",
    "\n",
    "(8) 하이퍼 파라미터인 학습률 설정하기\n",
    "\n",
    "(9) 모델 학습하기\n",
    "\n",
    "(10) test 데이터에 대한 성능 확인하기\n",
    "\n",
    "(11) 정답 데이터와 예측한 데이터 시각화하기"
   ]
  },
  {
   "cell_type": "code",
   "execution_count": 1,
   "id": "357f3a76",
   "metadata": {},
   "outputs": [],
   "source": [
    "from sklearn.datasets import load_diabetes\n",
    "import pandas as pd\n",
    "import numpy as np"
   ]
  },
  {
   "cell_type": "code",
   "execution_count": 2,
   "id": "7b1966ab",
   "metadata": {},
   "outputs": [
    {
     "name": "stdout",
     "output_type": "stream",
     "text": [
      "['age', 'sex', 'bmi', 'bp', 's1', 's2', 's3', 's4', 's5', 's6']\n"
     ]
    }
   ],
   "source": [
    "data = load_diabetes()\n",
    "print(data.feature_names)\n",
    "\n",
    "df_x = data.data\n",
    "df_y = data.target"
   ]
  },
  {
   "cell_type": "markdown",
   "id": "d93fe31f",
   "metadata": {},
   "source": [
    "이후 W(weight) 변수의 개수를 지정해 주기 위해 input의 개수를 확인해보았다."
   ]
  },
  {
   "cell_type": "code",
   "execution_count": 3,
   "id": "8448df4f",
   "metadata": {},
   "outputs": [],
   "source": [
    "df_x = np.array(df_x)\n",
    "df_y = np.array(df_y)"
   ]
  },
  {
   "cell_type": "markdown",
   "id": "5d21e2df",
   "metadata": {},
   "source": [
    "각 x,y를 numpy의 array형태로 변환하였다"
   ]
  },
  {
   "cell_type": "code",
   "execution_count": 4,
   "id": "f9402112",
   "metadata": {},
   "outputs": [
    {
     "name": "stdout",
     "output_type": "stream",
     "text": [
      "(353, 10) (353,)\n",
      "(89, 10) (89,)\n"
     ]
    }
   ],
   "source": [
    "from sklearn.model_selection import train_test_split\n",
    "\n",
    "X_train, X_test, y_train, y_test = train_test_split(df_x, df_y, test_size=0.2, random_state=42)\n",
    "\n",
    "print(X_train.shape, y_train.shape)\n",
    "print(X_test.shape, y_test.shape)"
   ]
  },
  {
   "cell_type": "markdown",
   "id": "bd1f0b5f",
   "metadata": {},
   "source": [
    "train과 test의 비율을 8:2비율로 나누어주었다."
   ]
  },
  {
   "cell_type": "code",
   "execution_count": 5,
   "id": "86b8347f",
   "metadata": {},
   "outputs": [],
   "source": [
    "W = np.random.rand(10)\n",
    "b = np.random.rand()"
   ]
  },
  {
   "cell_type": "code",
   "execution_count": 6,
   "id": "b363c4c5",
   "metadata": {},
   "outputs": [],
   "source": [
    "def model(X, w, b):\n",
    "    predictions = 0\n",
    "    for i in range(10):\n",
    "        predictions += X[:,i]*W[i]\n",
    "    predictions += b\n",
    "    return predictions"
   ]
  },
  {
   "cell_type": "markdown",
   "id": "1306a3e9",
   "metadata": {},
   "source": [
    "W가 10개이므로 for반복문을 이용해 10번 반복하면서 예측하는 model을 생성하였다."
   ]
  },
  {
   "cell_type": "code",
   "execution_count": 7,
   "id": "de3f1128",
   "metadata": {},
   "outputs": [],
   "source": [
    "def MSE(a, b):\n",
    "    mse = ((a-b)**2).mean()\n",
    "    return mse\n",
    "def loss(X, W, b, y):\n",
    "    predictions = model(X, W, b)\n",
    "    L = MSE(predictions, y)\n",
    "    return L    "
   ]
  },
  {
   "cell_type": "markdown",
   "id": "8ab99ac9",
   "metadata": {},
   "source": [
    "loss함수는 MSE(Mean Squared Error)를 이용하므로 함수를 정의해주고 이것을 이용해 다시 loss함수를 생성하였다."
   ]
  },
  {
   "cell_type": "code",
   "execution_count": 8,
   "id": "315c9a60",
   "metadata": {},
   "outputs": [],
   "source": [
    "def gradient(X, W, b, y):\n",
    "    N = len(y)\n",
    "    \n",
    "    y_pred = model(X, W, b)\n",
    "    \n",
    "    dW = 1/N*2*X.T.dot(y_pred-y)\n",
    "    db = 2*(y_pred-y).mean()\n",
    "    return dW, db"
   ]
  },
  {
   "cell_type": "markdown",
   "id": "a8f8e1fe",
   "metadata": {},
   "source": [
    "경사하강법을 이용한 gradient 함수를 생성한다."
   ]
  },
  {
   "cell_type": "code",
   "execution_count": 9,
   "id": "d4dc5e5a",
   "metadata": {},
   "outputs": [
    {
     "name": "stdout",
     "output_type": "stream",
     "text": [
      "Iteration 10 : Loss 5559.2807\n",
      "Iteration 20 : Loss 5155.7859\n",
      "Iteration 30 : Loss 4829.8572\n",
      "Iteration 40 : Loss 4565.0062\n",
      "Iteration 50 : Loss 4348.3761\n",
      "Iteration 60 : Loss 4169.9320\n",
      "Iteration 70 : Loss 4021.8328\n",
      "Iteration 80 : Loss 3897.9436\n",
      "Iteration 90 : Loss 3793.4568\n",
      "Iteration 100 : Loss 3704.5985\n",
      "Iteration 110 : Loss 3628.3993\n",
      "Iteration 120 : Loss 3562.5177\n",
      "Iteration 130 : Loss 3505.1019\n",
      "Iteration 140 : Loss 3454.6822\n",
      "Iteration 150 : Loss 3410.0883\n",
      "Iteration 160 : Loss 3370.3842\n",
      "Iteration 170 : Loss 3334.8175\n",
      "Iteration 180 : Loss 3302.7806\n",
      "Iteration 190 : Loss 3273.7794\n",
      "Iteration 200 : Loss 3247.4099\n",
      "Iteration 210 : Loss 3223.3395\n",
      "Iteration 220 : Loss 3201.2922\n",
      "Iteration 230 : Loss 3181.0372\n",
      "Iteration 240 : Loss 3162.3801\n",
      "Iteration 250 : Loss 3145.1559\n",
      "Iteration 260 : Loss 3129.2230\n",
      "Iteration 270 : Loss 3114.4595\n",
      "Iteration 280 : Loss 3100.7593\n",
      "Iteration 290 : Loss 3088.0294\n",
      "Iteration 300 : Loss 3076.1878\n",
      "Iteration 310 : Loss 3065.1616\n",
      "Iteration 320 : Loss 3054.8857\n",
      "Iteration 330 : Loss 3045.3019\n",
      "Iteration 340 : Loss 3036.3574\n",
      "Iteration 350 : Loss 3028.0044\n",
      "Iteration 360 : Loss 3020.1995\n",
      "Iteration 370 : Loss 3012.9031\n",
      "Iteration 380 : Loss 3006.0789\n",
      "Iteration 390 : Loss 2999.6936\n",
      "Iteration 400 : Loss 2993.7166\n",
      "Iteration 410 : Loss 2988.1196\n",
      "Iteration 420 : Loss 2982.8767\n",
      "Iteration 430 : Loss 2977.9636\n",
      "Iteration 440 : Loss 2973.3582\n",
      "Iteration 450 : Loss 2969.0398\n",
      "Iteration 460 : Loss 2964.9892\n",
      "Iteration 470 : Loss 2961.1886\n",
      "Iteration 480 : Loss 2957.6216\n",
      "Iteration 490 : Loss 2954.2728\n",
      "Iteration 500 : Loss 2951.1279\n",
      "Iteration 510 : Loss 2948.1736\n",
      "Iteration 520 : Loss 2945.3976\n",
      "Iteration 530 : Loss 2942.7883\n",
      "Iteration 540 : Loss 2940.3351\n",
      "Iteration 550 : Loss 2938.0278\n",
      "Iteration 560 : Loss 2935.8573\n",
      "Iteration 570 : Loss 2933.8147\n",
      "Iteration 580 : Loss 2931.8921\n",
      "Iteration 590 : Loss 2930.0817\n",
      "Iteration 600 : Loss 2928.3766\n",
      "Iteration 610 : Loss 2926.7701\n",
      "Iteration 620 : Loss 2925.2561\n",
      "Iteration 630 : Loss 2923.8289\n",
      "Iteration 640 : Loss 2922.4830\n",
      "Iteration 650 : Loss 2921.2134\n",
      "Iteration 660 : Loss 2920.0155\n",
      "Iteration 670 : Loss 2918.8848\n",
      "Iteration 680 : Loss 2917.8172\n",
      "Iteration 690 : Loss 2916.8090\n",
      "Iteration 700 : Loss 2915.8564\n",
      "Iteration 710 : Loss 2914.9562\n",
      "Iteration 720 : Loss 2914.1051\n",
      "Iteration 730 : Loss 2913.3004\n",
      "Iteration 740 : Loss 2912.5390\n",
      "Iteration 750 : Loss 2911.8186\n",
      "Iteration 760 : Loss 2911.1367\n",
      "Iteration 770 : Loss 2910.4909\n",
      "Iteration 780 : Loss 2909.8793\n",
      "Iteration 790 : Loss 2909.2997\n",
      "Iteration 800 : Loss 2908.7503\n",
      "Iteration 810 : Loss 2908.2294\n",
      "Iteration 820 : Loss 2907.7353\n",
      "Iteration 830 : Loss 2907.2664\n",
      "Iteration 840 : Loss 2906.8214\n",
      "Iteration 850 : Loss 2906.3989\n",
      "Iteration 860 : Loss 2905.9975\n",
      "Iteration 870 : Loss 2905.6161\n",
      "Iteration 880 : Loss 2905.2536\n",
      "Iteration 890 : Loss 2904.9089\n",
      "Iteration 900 : Loss 2904.5810\n",
      "Iteration 910 : Loss 2904.2689\n",
      "Iteration 920 : Loss 2903.9718\n",
      "Iteration 930 : Loss 2903.6889\n",
      "Iteration 940 : Loss 2903.4194\n",
      "Iteration 950 : Loss 2903.1625\n",
      "Iteration 960 : Loss 2902.9176\n",
      "Iteration 970 : Loss 2902.6841\n",
      "Iteration 980 : Loss 2902.4612\n",
      "Iteration 990 : Loss 2902.2484\n",
      "Iteration 1000 : Loss 2902.0452\n"
     ]
    }
   ],
   "source": [
    "LEARNING_RATE = 0.7\n",
    "\n",
    "losses = []\n",
    "\n",
    "for i in range(1,1001):\n",
    "    dW, db = gradient(X_train, W, b, y_train)\n",
    "    W -= LEARNING_RATE * dW\n",
    "    b -= LEARNING_RATE * db\n",
    "    L = loss(X_train, W, b, y_train)\n",
    "    losses.append(L)\n",
    "    if i%10 == 0:\n",
    "        print('Iteration %d : Loss %0.4f' % (i, L))"
   ]
  },
  {
   "cell_type": "markdown",
   "id": "a2b72438",
   "metadata": {},
   "source": [
    "rl = 0.7, 1000번 반복하면서 루브릭 조건인 3000을 만족하도록 하였다."
   ]
  },
  {
   "cell_type": "code",
   "execution_count": 10,
   "id": "df50c9c9",
   "metadata": {},
   "outputs": [
    {
     "data": {
      "image/png": "[encoded data removed]",
      "text/plain": [
       "<Figure size 432x288 with 1 Axes>"
      ]
     },
     "metadata": {
      "needs_background": "light"
     },
     "output_type": "display_data"
    }
   ],
   "source": [
    "import matplotlib.pyplot as plt\n",
    "plt.plot(losses)\n",
    "plt.show()"
   ]
  },
  {
   "cell_type": "markdown",
   "id": "981a5dce",
   "metadata": {},
   "source": [
    "마지막으로 loss를 plot하였다"
   ]
  },
  {
   "cell_type": "markdown",
   "id": "2984a049",
   "metadata": {},
   "source": [
    "# Project 2 : 날씨 좋은 월요일 오후 세 시, 자전거 타는 사람은 몇 명?"
   ]
  },
  {
   "cell_type": "markdown",
   "id": "d77b365e",
   "metadata": {},
   "source": [
    "(1) 데이터 가져오기\n",
    "\n",
    "(2) datetime 컬럼을 datetime자료형으로 변환하고 연,월,일,시,분,초까지 6가지 컬럼 생성하기\n",
    "\n",
    "(3) year, month, day, hour, minute, second 데이터 개수 시각화하기\n",
    "\n",
    "(4) X, y 컬럼 선택 및 train/test 데이터 분리\n",
    "\n",
    "(5) LinearRegression 모델 학습\n",
    "\n",
    "(6) 학습된 모델로 X_test에 대한 예측값 출력 및 손실함수값 계산\n",
    "\n",
    "(7) X축은 temp 또는 humidity로, y축은 count로 예측 결과 시각화하기"
   ]
  },
  {
   "cell_type": "code",
   "execution_count": 11,
   "id": "e9204803",
   "metadata": {},
   "outputs": [
    {
     "data": {
      "text/html": [
       "<div>\n",
       "<style scoped>\n",
       "    .dataframe tbody tr th:only-of-type {\n",
       "        vertical-align: middle;\n",
       "    }\n",
       "\n",
       "    .dataframe tbody tr th {\n",
       "        vertical-align: top;\n",
       "    }\n",
       "\n",
       "    .dataframe thead th {\n",
       "        text-align: right;\n",
       "    }\n",
       "</style>\n",
       "<table border=\"1\" class=\"dataframe\">\n",
       "  <thead>\n",
       "    <tr style=\"text-align: right;\">\n",
       "      <th></th>\n",
       "      <th>datetime</th>\n",
       "      <th>season</th>\n",
       "      <th>holiday</th>\n",
       "      <th>workingday</th>\n",
       "      <th>weather</th>\n",
       "      <th>temp</th>\n",
       "      <th>atemp</th>\n",
       "      <th>humidity</th>\n",
       "      <th>windspeed</th>\n",
       "      <th>casual</th>\n",
       "      <th>registered</th>\n",
       "      <th>count</th>\n",
       "    </tr>\n",
       "  </thead>\n",
       "  <tbody>\n",
       "    <tr>\n",
       "      <th>0</th>\n",
       "      <td>2011-01-01 00:00:00</td>\n",
       "      <td>1</td>\n",
       "      <td>0</td>\n",
       "      <td>0</td>\n",
       "      <td>1</td>\n",
       "      <td>9.84</td>\n",
       "      <td>14.395</td>\n",
       "      <td>81</td>\n",
       "      <td>0.0000</td>\n",
       "      <td>3</td>\n",
       "      <td>13</td>\n",
       "      <td>16</td>\n",
       "    </tr>\n",
       "    <tr>\n",
       "      <th>1</th>\n",
       "      <td>2011-01-01 01:00:00</td>\n",
       "      <td>1</td>\n",
       "      <td>0</td>\n",
       "      <td>0</td>\n",
       "      <td>1</td>\n",
       "      <td>9.02</td>\n",
       "      <td>13.635</td>\n",
       "      <td>80</td>\n",
       "      <td>0.0000</td>\n",
       "      <td>8</td>\n",
       "      <td>32</td>\n",
       "      <td>40</td>\n",
       "    </tr>\n",
       "    <tr>\n",
       "      <th>2</th>\n",
       "      <td>2011-01-01 02:00:00</td>\n",
       "      <td>1</td>\n",
       "      <td>0</td>\n",
       "      <td>0</td>\n",
       "      <td>1</td>\n",
       "      <td>9.02</td>\n",
       "      <td>13.635</td>\n",
       "      <td>80</td>\n",
       "      <td>0.0000</td>\n",
       "      <td>5</td>\n",
       "      <td>27</td>\n",
       "      <td>32</td>\n",
       "    </tr>\n",
       "    <tr>\n",
       "      <th>3</th>\n",
       "      <td>2011-01-01 03:00:00</td>\n",
       "      <td>1</td>\n",
       "      <td>0</td>\n",
       "      <td>0</td>\n",
       "      <td>1</td>\n",
       "      <td>9.84</td>\n",
       "      <td>14.395</td>\n",
       "      <td>75</td>\n",
       "      <td>0.0000</td>\n",
       "      <td>3</td>\n",
       "      <td>10</td>\n",
       "      <td>13</td>\n",
       "    </tr>\n",
       "    <tr>\n",
       "      <th>4</th>\n",
       "      <td>2011-01-01 04:00:00</td>\n",
       "      <td>1</td>\n",
       "      <td>0</td>\n",
       "      <td>0</td>\n",
       "      <td>1</td>\n",
       "      <td>9.84</td>\n",
       "      <td>14.395</td>\n",
       "      <td>75</td>\n",
       "      <td>0.0000</td>\n",
       "      <td>0</td>\n",
       "      <td>1</td>\n",
       "      <td>1</td>\n",
       "    </tr>\n",
       "    <tr>\n",
       "      <th>...</th>\n",
       "      <td>...</td>\n",
       "      <td>...</td>\n",
       "      <td>...</td>\n",
       "      <td>...</td>\n",
       "      <td>...</td>\n",
       "      <td>...</td>\n",
       "      <td>...</td>\n",
       "      <td>...</td>\n",
       "      <td>...</td>\n",
       "      <td>...</td>\n",
       "      <td>...</td>\n",
       "      <td>...</td>\n",
       "    </tr>\n",
       "    <tr>\n",
       "      <th>10881</th>\n",
       "      <td>2012-12-19 19:00:00</td>\n",
       "      <td>4</td>\n",
       "      <td>0</td>\n",
       "      <td>1</td>\n",
       "      <td>1</td>\n",
       "      <td>15.58</td>\n",
       "      <td>19.695</td>\n",
       "      <td>50</td>\n",
       "      <td>26.0027</td>\n",
       "      <td>7</td>\n",
       "      <td>329</td>\n",
       "      <td>336</td>\n",
       "    </tr>\n",
       "    <tr>\n",
       "      <th>10882</th>\n",
       "      <td>2012-12-19 20:00:00</td>\n",
       "      <td>4</td>\n",
       "      <td>0</td>\n",
       "      <td>1</td>\n",
       "      <td>1</td>\n",
       "      <td>14.76</td>\n",
       "      <td>17.425</td>\n",
       "      <td>57</td>\n",
       "      <td>15.0013</td>\n",
       "      <td>10</td>\n",
       "      <td>231</td>\n",
       "      <td>241</td>\n",
       "    </tr>\n",
       "    <tr>\n",
       "      <th>10883</th>\n",
       "      <td>2012-12-19 21:00:00</td>\n",
       "      <td>4</td>\n",
       "      <td>0</td>\n",
       "      <td>1</td>\n",
       "      <td>1</td>\n",
       "      <td>13.94</td>\n",
       "      <td>15.910</td>\n",
       "      <td>61</td>\n",
       "      <td>15.0013</td>\n",
       "      <td>4</td>\n",
       "      <td>164</td>\n",
       "      <td>168</td>\n",
       "    </tr>\n",
       "    <tr>\n",
       "      <th>10884</th>\n",
       "      <td>2012-12-19 22:00:00</td>\n",
       "      <td>4</td>\n",
       "      <td>0</td>\n",
       "      <td>1</td>\n",
       "      <td>1</td>\n",
       "      <td>13.94</td>\n",
       "      <td>17.425</td>\n",
       "      <td>61</td>\n",
       "      <td>6.0032</td>\n",
       "      <td>12</td>\n",
       "      <td>117</td>\n",
       "      <td>129</td>\n",
       "    </tr>\n",
       "    <tr>\n",
       "      <th>10885</th>\n",
       "      <td>2012-12-19 23:00:00</td>\n",
       "      <td>4</td>\n",
       "      <td>0</td>\n",
       "      <td>1</td>\n",
       "      <td>1</td>\n",
       "      <td>13.12</td>\n",
       "      <td>16.665</td>\n",
       "      <td>66</td>\n",
       "      <td>8.9981</td>\n",
       "      <td>4</td>\n",
       "      <td>84</td>\n",
       "      <td>88</td>\n",
       "    </tr>\n",
       "  </tbody>\n",
       "</table>\n",
       "<p>10886 rows × 12 columns</p>\n",
       "</div>"
      ],
      "text/plain": [
       "                  datetime  season  holiday  workingday  weather   temp  \\\n",
       "0      2011-01-01 00:00:00       1        0           0        1   9.84   \n",
       "1      2011-01-01 01:00:00       1        0           0        1   9.02   \n",
       "2      2011-01-01 02:00:00       1        0           0        1   9.02   \n",
       "3      2011-01-01 03:00:00       1        0           0        1   9.84   \n",
       "4      2011-01-01 04:00:00       1        0           0        1   9.84   \n",
       "...                    ...     ...      ...         ...      ...    ...   \n",
       "10881  2012-12-19 19:00:00       4        0           1        1  15.58   \n",
       "10882  2012-12-19 20:00:00       4        0           1        1  14.76   \n",
       "10883  2012-12-19 21:00:00       4        0           1        1  13.94   \n",
       "10884  2012-12-19 22:00:00       4        0           1        1  13.94   \n",
       "10885  2012-12-19 23:00:00       4        0           1        1  13.12   \n",
       "\n",
       "        atemp  humidity  windspeed  casual  registered  count  \n",
       "0      14.395        81     0.0000       3          13     16  \n",
       "1      13.635        80     0.0000       8          32     40  \n",
       "2      13.635        80     0.0000       5          27     32  \n",
       "3      14.395        75     0.0000       3          10     13  \n",
       "4      14.395        75     0.0000       0           1      1  \n",
       "...       ...       ...        ...     ...         ...    ...  \n",
       "10881  19.695        50    26.0027       7         329    336  \n",
       "10882  17.425        57    15.0013      10         231    241  \n",
       "10883  15.910        61    15.0013       4         164    168  \n",
       "10884  17.425        61     6.0032      12         117    129  \n",
       "10885  16.665        66     8.9981       4          84     88  \n",
       "\n",
       "[10886 rows x 12 columns]"
      ]
     },
     "execution_count": 11,
     "metadata": {},
     "output_type": "execute_result"
    }
   ],
   "source": [
    "train = pd.read_csv('~/data/data/bike-sharing-demand/train.csv')\n",
    "train"
   ]
  },
  {
   "cell_type": "code",
   "execution_count": 12,
   "id": "4e9cb375",
   "metadata": {},
   "outputs": [],
   "source": [
    "train['year'] = pd.to_datetime(train['datetime']).dt.year\n",
    "train['month'] = pd.to_datetime(train['datetime']).dt.month\n",
    "train['day'] = pd.to_datetime(train['datetime']).dt.day\n",
    "train['hour'] = pd.to_datetime(train['datetime']).dt.hour\n",
    "train['minute'] = pd.to_datetime(train['datetime']).dt.minute\n",
    "train['second'] = pd.to_datetime(train['datetime']).dt.second"
   ]
  },
  {
   "cell_type": "markdown",
   "id": "ce8a4441",
   "metadata": {},
   "source": [
    "{2), (3) 조건을 만족하기 위해 pandas의 to_datetime을 이용하여 datetime 칼럼의 변수들을 연,월,일,시,분,초로 나누어 칼럼을 추가하였다."
   ]
  },
  {
   "cell_type": "code",
   "execution_count": 13,
   "id": "975c3a9e",
   "metadata": {},
   "outputs": [
    {
     "data": {
      "text/html": [
       "<div>\n",
       "<style scoped>\n",
       "    .dataframe tbody tr th:only-of-type {\n",
       "        vertical-align: middle;\n",
       "    }\n",
       "\n",
       "    .dataframe tbody tr th {\n",
       "        vertical-align: top;\n",
       "    }\n",
       "\n",
       "    .dataframe thead th {\n",
       "        text-align: right;\n",
       "    }\n",
       "</style>\n",
       "<table border=\"1\" class=\"dataframe\">\n",
       "  <thead>\n",
       "    <tr style=\"text-align: right;\">\n",
       "      <th></th>\n",
       "      <th>datetime</th>\n",
       "      <th>season</th>\n",
       "      <th>holiday</th>\n",
       "      <th>workingday</th>\n",
       "      <th>weather</th>\n",
       "      <th>temp</th>\n",
       "      <th>atemp</th>\n",
       "      <th>humidity</th>\n",
       "      <th>windspeed</th>\n",
       "      <th>casual</th>\n",
       "      <th>registered</th>\n",
       "      <th>count</th>\n",
       "      <th>year</th>\n",
       "      <th>month</th>\n",
       "      <th>day</th>\n",
       "      <th>hour</th>\n",
       "      <th>minute</th>\n",
       "      <th>second</th>\n",
       "    </tr>\n",
       "  </thead>\n",
       "  <tbody>\n",
       "    <tr>\n",
       "      <th>0</th>\n",
       "      <td>2011-01-01 00:00:00</td>\n",
       "      <td>1</td>\n",
       "      <td>0</td>\n",
       "      <td>0</td>\n",
       "      <td>1</td>\n",
       "      <td>9.84</td>\n",
       "      <td>14.395</td>\n",
       "      <td>81</td>\n",
       "      <td>0.0000</td>\n",
       "      <td>3</td>\n",
       "      <td>13</td>\n",
       "      <td>16</td>\n",
       "      <td>2011</td>\n",
       "      <td>1</td>\n",
       "      <td>1</td>\n",
       "      <td>0</td>\n",
       "      <td>0</td>\n",
       "      <td>0</td>\n",
       "    </tr>\n",
       "    <tr>\n",
       "      <th>1</th>\n",
       "      <td>2011-01-01 01:00:00</td>\n",
       "      <td>1</td>\n",
       "      <td>0</td>\n",
       "      <td>0</td>\n",
       "      <td>1</td>\n",
       "      <td>9.02</td>\n",
       "      <td>13.635</td>\n",
       "      <td>80</td>\n",
       "      <td>0.0000</td>\n",
       "      <td>8</td>\n",
       "      <td>32</td>\n",
       "      <td>40</td>\n",
       "      <td>2011</td>\n",
       "      <td>1</td>\n",
       "      <td>1</td>\n",
       "      <td>1</td>\n",
       "      <td>0</td>\n",
       "      <td>0</td>\n",
       "    </tr>\n",
       "    <tr>\n",
       "      <th>2</th>\n",
       "      <td>2011-01-01 02:00:00</td>\n",
       "      <td>1</td>\n",
       "      <td>0</td>\n",
       "      <td>0</td>\n",
       "      <td>1</td>\n",
       "      <td>9.02</td>\n",
       "      <td>13.635</td>\n",
       "      <td>80</td>\n",
       "      <td>0.0000</td>\n",
       "      <td>5</td>\n",
       "      <td>27</td>\n",
       "      <td>32</td>\n",
       "      <td>2011</td>\n",
       "      <td>1</td>\n",
       "      <td>1</td>\n",
       "      <td>2</td>\n",
       "      <td>0</td>\n",
       "      <td>0</td>\n",
       "    </tr>\n",
       "    <tr>\n",
       "      <th>3</th>\n",
       "      <td>2011-01-01 03:00:00</td>\n",
       "      <td>1</td>\n",
       "      <td>0</td>\n",
       "      <td>0</td>\n",
       "      <td>1</td>\n",
       "      <td>9.84</td>\n",
       "      <td>14.395</td>\n",
       "      <td>75</td>\n",
       "      <td>0.0000</td>\n",
       "      <td>3</td>\n",
       "      <td>10</td>\n",
       "      <td>13</td>\n",
       "      <td>2011</td>\n",
       "      <td>1</td>\n",
       "      <td>1</td>\n",
       "      <td>3</td>\n",
       "      <td>0</td>\n",
       "      <td>0</td>\n",
       "    </tr>\n",
       "    <tr>\n",
       "      <th>4</th>\n",
       "      <td>2011-01-01 04:00:00</td>\n",
       "      <td>1</td>\n",
       "      <td>0</td>\n",
       "      <td>0</td>\n",
       "      <td>1</td>\n",
       "      <td>9.84</td>\n",
       "      <td>14.395</td>\n",
       "      <td>75</td>\n",
       "      <td>0.0000</td>\n",
       "      <td>0</td>\n",
       "      <td>1</td>\n",
       "      <td>1</td>\n",
       "      <td>2011</td>\n",
       "      <td>1</td>\n",
       "      <td>1</td>\n",
       "      <td>4</td>\n",
       "      <td>0</td>\n",
       "      <td>0</td>\n",
       "    </tr>\n",
       "    <tr>\n",
       "      <th>...</th>\n",
       "      <td>...</td>\n",
       "      <td>...</td>\n",
       "      <td>...</td>\n",
       "      <td>...</td>\n",
       "      <td>...</td>\n",
       "      <td>...</td>\n",
       "      <td>...</td>\n",
       "      <td>...</td>\n",
       "      <td>...</td>\n",
       "      <td>...</td>\n",
       "      <td>...</td>\n",
       "      <td>...</td>\n",
       "      <td>...</td>\n",
       "      <td>...</td>\n",
       "      <td>...</td>\n",
       "      <td>...</td>\n",
       "      <td>...</td>\n",
       "      <td>...</td>\n",
       "    </tr>\n",
       "    <tr>\n",
       "      <th>10881</th>\n",
       "      <td>2012-12-19 19:00:00</td>\n",
       "      <td>4</td>\n",
       "      <td>0</td>\n",
       "      <td>1</td>\n",
       "      <td>1</td>\n",
       "      <td>15.58</td>\n",
       "      <td>19.695</td>\n",
       "      <td>50</td>\n",
       "      <td>26.0027</td>\n",
       "      <td>7</td>\n",
       "      <td>329</td>\n",
       "      <td>336</td>\n",
       "      <td>2012</td>\n",
       "      <td>12</td>\n",
       "      <td>19</td>\n",
       "      <td>19</td>\n",
       "      <td>0</td>\n",
       "      <td>0</td>\n",
       "    </tr>\n",
       "    <tr>\n",
       "      <th>10882</th>\n",
       "      <td>2012-12-19 20:00:00</td>\n",
       "      <td>4</td>\n",
       "      <td>0</td>\n",
       "      <td>1</td>\n",
       "      <td>1</td>\n",
       "      <td>14.76</td>\n",
       "      <td>17.425</td>\n",
       "      <td>57</td>\n",
       "      <td>15.0013</td>\n",
       "      <td>10</td>\n",
       "      <td>231</td>\n",
       "      <td>241</td>\n",
       "      <td>2012</td>\n",
       "      <td>12</td>\n",
       "      <td>19</td>\n",
       "      <td>20</td>\n",
       "      <td>0</td>\n",
       "      <td>0</td>\n",
       "    </tr>\n",
       "    <tr>\n",
       "      <th>10883</th>\n",
       "      <td>2012-12-19 21:00:00</td>\n",
       "      <td>4</td>\n",
       "      <td>0</td>\n",
       "      <td>1</td>\n",
       "      <td>1</td>\n",
       "      <td>13.94</td>\n",
       "      <td>15.910</td>\n",
       "      <td>61</td>\n",
       "      <td>15.0013</td>\n",
       "      <td>4</td>\n",
       "      <td>164</td>\n",
       "      <td>168</td>\n",
       "      <td>2012</td>\n",
       "      <td>12</td>\n",
       "      <td>19</td>\n",
       "      <td>21</td>\n",
       "      <td>0</td>\n",
       "      <td>0</td>\n",
       "    </tr>\n",
       "    <tr>\n",
       "      <th>10884</th>\n",
       "      <td>2012-12-19 22:00:00</td>\n",
       "      <td>4</td>\n",
       "      <td>0</td>\n",
       "      <td>1</td>\n",
       "      <td>1</td>\n",
       "      <td>13.94</td>\n",
       "      <td>17.425</td>\n",
       "      <td>61</td>\n",
       "      <td>6.0032</td>\n",
       "      <td>12</td>\n",
       "      <td>117</td>\n",
       "      <td>129</td>\n",
       "      <td>2012</td>\n",
       "      <td>12</td>\n",
       "      <td>19</td>\n",
       "      <td>22</td>\n",
       "      <td>0</td>\n",
       "      <td>0</td>\n",
       "    </tr>\n",
       "    <tr>\n",
       "      <th>10885</th>\n",
       "      <td>2012-12-19 23:00:00</td>\n",
       "      <td>4</td>\n",
       "      <td>0</td>\n",
       "      <td>1</td>\n",
       "      <td>1</td>\n",
       "      <td>13.12</td>\n",
       "      <td>16.665</td>\n",
       "      <td>66</td>\n",
       "      <td>8.9981</td>\n",
       "      <td>4</td>\n",
       "      <td>84</td>\n",
       "      <td>88</td>\n",
       "      <td>2012</td>\n",
       "      <td>12</td>\n",
       "      <td>19</td>\n",
       "      <td>23</td>\n",
       "      <td>0</td>\n",
       "      <td>0</td>\n",
       "    </tr>\n",
       "  </tbody>\n",
       "</table>\n",
       "<p>10886 rows × 18 columns</p>\n",
       "</div>"
      ],
      "text/plain": [
       "                  datetime  season  holiday  workingday  weather   temp  \\\n",
       "0      2011-01-01 00:00:00       1        0           0        1   9.84   \n",
       "1      2011-01-01 01:00:00       1        0           0        1   9.02   \n",
       "2      2011-01-01 02:00:00       1        0           0        1   9.02   \n",
       "3      2011-01-01 03:00:00       1        0           0        1   9.84   \n",
       "4      2011-01-01 04:00:00       1        0           0        1   9.84   \n",
       "...                    ...     ...      ...         ...      ...    ...   \n",
       "10881  2012-12-19 19:00:00       4        0           1        1  15.58   \n",
       "10882  2012-12-19 20:00:00       4        0           1        1  14.76   \n",
       "10883  2012-12-19 21:00:00       4        0           1        1  13.94   \n",
       "10884  2012-12-19 22:00:00       4        0           1        1  13.94   \n",
       "10885  2012-12-19 23:00:00       4        0           1        1  13.12   \n",
       "\n",
       "        atemp  humidity  windspeed  casual  registered  count  year  month  \\\n",
       "0      14.395        81     0.0000       3          13     16  2011      1   \n",
       "1      13.635        80     0.0000       8          32     40  2011      1   \n",
       "2      13.635        80     0.0000       5          27     32  2011      1   \n",
       "3      14.395        75     0.0000       3          10     13  2011      1   \n",
       "4      14.395        75     0.0000       0           1      1  2011      1   \n",
       "...       ...       ...        ...     ...         ...    ...   ...    ...   \n",
       "10881  19.695        50    26.0027       7         329    336  2012     12   \n",
       "10882  17.425        57    15.0013      10         231    241  2012     12   \n",
       "10883  15.910        61    15.0013       4         164    168  2012     12   \n",
       "10884  17.425        61     6.0032      12         117    129  2012     12   \n",
       "10885  16.665        66     8.9981       4          84     88  2012     12   \n",
       "\n",
       "       day  hour  minute  second  \n",
       "0        1     0       0       0  \n",
       "1        1     1       0       0  \n",
       "2        1     2       0       0  \n",
       "3        1     3       0       0  \n",
       "4        1     4       0       0  \n",
       "...    ...   ...     ...     ...  \n",
       "10881   19    19       0       0  \n",
       "10882   19    20       0       0  \n",
       "10883   19    21       0       0  \n",
       "10884   19    22       0       0  \n",
       "10885   19    23       0       0  \n",
       "\n",
       "[10886 rows x 18 columns]"
      ]
     },
     "execution_count": 13,
     "metadata": {},
     "output_type": "execute_result"
    }
   ],
   "source": [
    "train"
   ]
  },
  {
   "cell_type": "code",
   "execution_count": 14,
   "id": "3e777809",
   "metadata": {},
   "outputs": [
    {
     "data": {
      "image/png": "[encoded data removed]",
      "text/plain": [
       "<Figure size 720x864 with 6 Axes>"
      ]
     },
     "metadata": {
      "needs_background": "light"
     },
     "output_type": "display_data"
    }
   ],
   "source": [
    "import seaborn as sns\n",
    "\n",
    "plt.figure(figsize=(10, 12))\n",
    "plt.subplot(3,2,1)\n",
    "sns.countplot(x=\"year\", data=train)\n",
    "plt.subplot(3,2,2)\n",
    "sns.countplot(x=\"month\", data=train)\n",
    "plt.subplot(3,2,3)\n",
    "sns.countplot(x=\"day\", data=train)\n",
    "plt.subplot(3,2,4)\n",
    "sns.countplot(x=\"hour\", data=train)\n",
    "plt.subplot(3,2,5)\n",
    "sns.countplot(x=\"minute\", data=train)\n",
    "plt.subplot(3,2,6)\n",
    "sns.countplot(x=\"second\", data=train)\n",
    "\n",
    "plt.show()"
   ]
  },
  {
   "cell_type": "markdown",
   "id": "3c91eef9",
   "metadata": {},
   "source": [
    "추가한 칼럼들을 seaborn의 countplot을 이용하여 그래프를 그렸다."
   ]
  },
  {
   "cell_type": "code",
   "execution_count": 15,
   "id": "b83ec66f",
   "metadata": {},
   "outputs": [],
   "source": [
    "X = train[['season','holiday','workingday','weather','temp','atemp','humidity','windspeed','month','day','hour']]\n",
    "y = train['count'].values"
   ]
  },
  {
   "cell_type": "markdown",
   "id": "24bdad61",
   "metadata": {},
   "source": [
    "X 변수에는 casual과 registered는 필요없기 때문에 제거를 하였고, count가 label이므로 y 변수로 지정해준다"
   ]
  },
  {
   "cell_type": "code",
   "execution_count": 16,
   "id": "54c0b4a6",
   "metadata": {},
   "outputs": [
    {
     "name": "stdout",
     "output_type": "stream",
     "text": [
      "(8708, 11) (2178, 11)\n",
      "(8708,) (2178,)\n"
     ]
    }
   ],
   "source": [
    "X_train, X_test, y_train, y_test = train_test_split(X, y, test_size=0.2, random_state=42)\n",
    "\n",
    "print(X_train.shape, X_test.shape)\n",
    "print(y_train.shape, y_test.shape)"
   ]
  },
  {
   "cell_type": "code",
   "execution_count": 17,
   "id": "4f11412d",
   "metadata": {},
   "outputs": [
    {
     "data": {
      "text/plain": [
       "array([296.34167172,   9.02951898, 240.00939083, ..., 270.02590256,\n",
       "        -8.86390143, 205.30284922])"
      ]
     },
     "execution_count": 17,
     "metadata": {},
     "output_type": "execute_result"
    }
   ],
   "source": [
    "from sklearn.linear_model import LinearRegression\n",
    "\n",
    "model = LinearRegression()\n",
    "model.fit(X_train, y_train)\n",
    "\n",
    "predictions = model.predict(X_test)\n",
    "predictions"
   ]
  },
  {
   "cell_type": "markdown",
   "id": "b7307b61",
   "metadata": {},
   "source": [
    "sklearn의 LinearRegression을 이용해 모델을 학습해보자."
   ]
  },
  {
   "cell_type": "code",
   "execution_count": 18,
   "id": "b385e7a2",
   "metadata": {},
   "outputs": [
    {
     "name": "stdout",
     "output_type": "stream",
     "text": [
      "21648.70612510245 147.1349928640446\n"
     ]
    }
   ],
   "source": [
    "from sklearn.metrics import mean_squared_error\n",
    "\n",
    "mse = mean_squared_error(y_test, predictions)\n",
    "rmse = mse**0.5\n",
    "print(mse, rmse)"
   ]
  },
  {
   "cell_type": "markdown",
   "id": "148e09d7",
   "metadata": {},
   "source": [
    "loss함수는 mse와 rmse를 모두 구해보았다. RMSE가 147.13으로 루브릭 조건인 150이하를 만족하였다."
   ]
  },
  {
   "cell_type": "code",
   "execution_count": 23,
   "id": "928152f4",
   "metadata": {},
   "outputs": [
    {
     "data": {
      "image/png": "[encoded data removed]",
      "text/plain": [
       "<Figure size 576x864 with 2 Axes>"
      ]
     },
     "metadata": {
      "needs_background": "light"
     },
     "output_type": "display_data"
    }
   ],
   "source": [
    "plt.figure(figsize=(8, 12))\n",
    "plt.subplot(1,2,1)\n",
    "plt.scatter(X_test['temp'], y_test, label='true')\n",
    "plt.scatter(X_test['temp'], predictions, label='pred')\n",
    "plt.subplot(1,2,2)\n",
    "plt.scatter(X_test['humidity'], y_test, label='true')\n",
    "plt.scatter(X_test['humidity'], predictions, label='pred')\n",
    "plt.legend()\n",
    "plt.show()"
   ]
  },
  {
   "cell_type": "markdown",
   "id": "1e20a70b",
   "metadata": {},
   "source": [
    "마지막으로 x좌표에 temp와 humidity 데이터를 count데이터를 넣어 plot하였다."
   ]
  }
 ],
 "metadata": {
  "kernelspec": {
   "display_name": "Python 3 (ipykernel)",
   "language": "python",
   "name": "python3"
  },
  "language_info": {
   "codemirror_mode": {
    "name": "ipython",
    "version": 3
   },
   "file_extension": ".py",
   "mimetype": "text/x-python",
   "name": "python",
   "nbconvert_exporter": "python",
   "pygments_lexer": "ipython3",
   "version": "3.9.7"
  }
 },
 "nbformat": 4,
 "nbformat_minor": 5
}
