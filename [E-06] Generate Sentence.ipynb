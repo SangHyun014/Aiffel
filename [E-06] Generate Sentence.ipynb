{
 "cells": [
  {
   "cell_type": "markdown",
   "id": "8eca51d5",
   "metadata": {},
   "source": [
    "# 루브릭\n",
    "1. 데이터의 전처리 및 구성과정이 체계적으로 진행되었는가?\n",
    "    - 특수문자 제거, 토크나이저 생성, 패딩 처리의 작업들이 빠짐없이 진행되었는가?\n",
    "2. 가사 텍스트 생성 모델이 정상적으로 작동하는가?\n",
    "    - 텍스트 제너레이션 결과로 생성된 문장이 해석 가능한 문장인가?\n",
    "3. 텍스트 생성모델이 안정적으로 학습되었는가?\n",
    "    - 텍스트 생성모델의 validation loss가 2.2이하로 낮아졌는가?"
   ]
  },
  {
   "cell_type": "markdown",
   "id": "adea7069",
   "metadata": {},
   "source": [
    "### 필요한 라이브러리 불러오기"
   ]
  },
  {
   "cell_type": "code",
   "execution_count": 1,
   "id": "9dcfbcd3",
   "metadata": {},
   "outputs": [],
   "source": [
    "import glob\n",
    "import os\n",
    "import re\n",
    "import tensorflow as tf"
   ]
  },
  {
   "cell_type": "markdown",
   "id": "48913f31",
   "metadata": {},
   "source": [
    "### 데이터 불러오기"
   ]
  },
  {
   "cell_type": "code",
   "execution_count": 2,
   "id": "5b82d02e",
   "metadata": {},
   "outputs": [
    {
     "name": "stdout",
     "output_type": "stream",
     "text": [
      "데이터 크기: 187088\n",
      "Examples:\n",
      " ['', '', '[Spoken Intro:]']\n"
     ]
    }
   ],
   "source": [
    "txt_file_path = os.getenv('HOME')+'/aiffel/lyricist/data/lyrics/*' \n",
    "\n",
    "txt_list = glob.glob(txt_file_path) \n",
    "\n",
    "raw_corpus = [] \n",
    "\n",
    "for txt_file in txt_list:\n",
    "    with open(txt_file, \"r\") as f:\n",
    "        raw = f.read().splitlines()\n",
    "        raw_corpus.extend(raw)\n",
    "\n",
    "print(\"데이터 크기:\", len(raw_corpus))\n",
    "print(\"Examples:\\n\", raw_corpus[:3])"
   ]
  },
  {
   "cell_type": "markdown",
   "id": "475df731",
   "metadata": {},
   "source": [
    "1. 모두 소문자로 변경, 공백 지우기\n",
    "2. 특수문자 양쪽에 공백 넣기\n",
    "3. 여러 공백 -> 하나의 공백\n",
    "4. a-zA-Z.!,?가 아닌 모든 문자를 하나의 공백으로 바꿈\n",
    "5. 다시 양쪽 공백을 지움\n",
    "6. 문장 시작 <start>, 끝 <end> 추가\n",
    "    + 토큰화 했을 때, 토큰의 개수가 15개를 넘어가면 학습데이터에서 제외하기"
   ]
  },
  {
   "cell_type": "code",
   "execution_count": 3,
   "id": "e22eb453",
   "metadata": {},
   "outputs": [],
   "source": [
    "def preprocess_sentence(sentence):\n",
    "    sentence = sentence.lower().strip()   #1\n",
    "    sentence = re.sub(r\"([?.!,¿])\", r\" \\1 \", sentence)   #2\n",
    "    sentence = re.sub(r'[\" \"]+', \" \", sentence)  #3\n",
    "    sentence = re.sub(r\"[^a-zA-Z?.!,¿]+\", \" \", sentence)  #4\n",
    "    sentence = sentence.strip()   #5\n",
    "    sentence_check = sentence.split(' ')      \n",
    "    \n",
    "    if len(sentence_check) > 13:         #6\n",
    "        return 0\n",
    "    else:\n",
    "        sentence = '<start> ' + sentence + ' <end>'\n",
    "        return sentence \n",
    "    "
   ]
  },
  {
   "cell_type": "code",
   "execution_count": 4,
   "id": "166c89ac",
   "metadata": {},
   "outputs": [
    {
     "data": {
      "text/plain": [
       "['<start> spoken intro <end>',\n",
       " '<start> you ever want something <end>',\n",
       " '<start> that you know you shouldn t have <end>',\n",
       " '<start> the more you know you shouldn t have it , <end>',\n",
       " '<start> the more you want it <end>',\n",
       " '<start> and then one day you get it , <end>',\n",
       " '<start> it s so good too <end>',\n",
       " '<start> but it s just like my girl <end>',\n",
       " '<start> when she s around me <end>',\n",
       " '<start> i just feel so good , so good <end>']"
      ]
     },
     "execution_count": 4,
     "metadata": {},
     "output_type": "execute_result"
    }
   ],
   "source": [
    "corpus = []\n",
    "\n",
    "for sentence in raw_corpus:\n",
    "    if len(sentence) == 0:\n",
    "        continue\n",
    "    if sentence[-1] == \":\":\n",
    "        continue\n",
    "        \n",
    "    preprocessed_sentence = preprocess_sentence(sentence)\n",
    "    if preprocessed_sentence == 0:\n",
    "        pass\n",
    "    else:\n",
    "        corpus.append(preprocessed_sentence)\n",
    "    \n",
    "corpus[:10]"
   ]
  },
  {
   "cell_type": "code",
   "execution_count": 5,
   "id": "4a0f627e",
   "metadata": {},
   "outputs": [
    {
     "name": "stdout",
     "output_type": "stream",
     "text": [
      "[[   2 2711 2353 ...    0    0    0]\n",
      " [   2    7  161 ...    0    0    0]\n",
      " [   2   15    7 ...    0    0    0]\n",
      " ...\n",
      " [   2   41    6 ...    0    0    0]\n",
      " [   2   31    7 ...    0    0    0]\n",
      " [   2  302    1 ...    0    0    0]] <keras_preprocessing.text.Tokenizer object at 0x7fa8cf5214f0>\n"
     ]
    }
   ],
   "source": [
    "def tokenize(corpus):\n",
    "    tokenizer = tf.keras.preprocessing.text.Tokenizer(num_words=12000, filters=' ', oov_token=\"<unk\")\n",
    "    tokenizer.fit_on_texts(corpus)\n",
    "    tensor = tokenizer.texts_to_sequences(corpus)\n",
    "    tensor = tf.keras.preprocessing.sequence.pad_sequences(tensor, padding='post')\n",
    "    \n",
    "    print(tensor, tokenizer)\n",
    "    return tensor, tokenizer\n",
    "\n",
    "tensor, tokenizer = tokenize(corpus)"
   ]
  },
  {
   "cell_type": "code",
   "execution_count": 6,
   "id": "4fa5afbc",
   "metadata": {},
   "outputs": [
    {
     "name": "stdout",
     "output_type": "stream",
     "text": [
      "1 : <unk\n",
      "2 : <start>\n",
      "3 : <end>\n",
      "4 : i\n",
      "5 : ,\n",
      "6 : the\n",
      "7 : you\n",
      "8 : and\n",
      "9 : a\n",
      "10 : to\n"
     ]
    }
   ],
   "source": [
    "for idx in tokenizer.index_word:\n",
    "    print(idx, \":\", tokenizer.index_word[idx])\n",
    "    \n",
    "    if idx >= 10:\n",
    "        break"
   ]
  },
  {
   "cell_type": "code",
   "execution_count": 7,
   "id": "416c4e5f",
   "metadata": {},
   "outputs": [
    {
     "name": "stdout",
     "output_type": "stream",
     "text": [
      "[[   2 2711 2353 ...    0    0    0]\n",
      " [   2    7  161 ...    0    0    0]\n",
      " [   2   15    7 ...    0    0    0]\n",
      " ...\n",
      " [   2   41    6 ...    3    0    0]\n",
      " [   2   31    7 ...    3    0    0]\n",
      " [   2  302    1 ...    0    0    0]]\n",
      "[[2711 2353    3 ...    0    0    0]\n",
      " [   7  161   64 ...    0    0    0]\n",
      " [  15    7   34 ...    0    0    0]\n",
      " ...\n",
      " [  41    6  153 ...    0    0    0]\n",
      " [  31    7  189 ...    0    0    0]\n",
      " [ 302    1 4238 ...    0    0    0]]\n"
     ]
    }
   ],
   "source": [
    "src_input = tensor[:, :-1]\n",
    "tg_input = tensor[:, 1:]\n",
    "\n",
    "print(src_input)\n",
    "print(tg_input)"
   ]
  },
  {
   "cell_type": "code",
   "execution_count": 8,
   "id": "931f1f36",
   "metadata": {},
   "outputs": [
    {
     "data": {
      "text/plain": [
       "<BatchDataset shapes: ((256, 14), (256, 14)), types: (tf.int32, tf.int32)>"
      ]
     },
     "execution_count": 8,
     "metadata": {},
     "output_type": "execute_result"
    }
   ],
   "source": [
    "BUFFER_SIZE = len(src_input)\n",
    "BATCH_SIZE = 256\n",
    "steps_per_epoch = len(src_input)//BATCH_SIZE\n",
    "\n",
    "VOCAB_SIZE = tokenizer.num_words + 1\n",
    "\n",
    "dataset = tf.data.Dataset.from_tensor_slices((src_input, tg_input))\n",
    "dataset = dataset.shuffle(BUFFER_SIZE)\n",
    "dataset = dataset.batch(BATCH_SIZE, drop_remainder = True)\n",
    "dataset"
   ]
  },
  {
   "cell_type": "code",
   "execution_count": 9,
   "id": "27b08805",
   "metadata": {},
   "outputs": [
    {
     "name": "stdout",
     "output_type": "stream",
     "text": [
      "Source Train : (124810, 14)\n",
      "Target Train : (124810, 14)\n"
     ]
    }
   ],
   "source": [
    "from sklearn.model_selection import train_test_split\n",
    "\n",
    "enc_train, enc_val, dec_train, dec_val = train_test_split(src_input, tg_input, test_size=0.2, shuffle=True, random_state=42)\n",
    "\n",
    "print('Source Train :', enc_train.shape)\n",
    "print('Target Train :', dec_train.shape)"
   ]
  },
  {
   "cell_type": "code",
   "execution_count": 10,
   "id": "bdf4112b",
   "metadata": {},
   "outputs": [],
   "source": [
    "class TextGenerator(tf.keras.Model):\n",
    "    def __init__(self, vocab_size, embedding_size, hidden_size):\n",
    "        super().__init__()\n",
    "        self.embedding = tf.keras.layers.Embedding(vocab_size, embedding_size)\n",
    "        self.rnn_1 = tf.keras.layers.LSTM(hidden_size, return_sequences=True)\n",
    "        self.rnn_2 = tf.keras.layers.LSTM(hidden_size, return_sequences=True)\n",
    "        #self.rnn_3 = tf.keras.layers.LSTM(hidden_size, return_sequences=True) \n",
    "        self.linear = tf.keras.layers.Dense(vocab_size)\n",
    "        \n",
    "    def call(self, x):\n",
    "        out = self.embedding(x)\n",
    "        out = self.rnn_1(out)\n",
    "        out = self.rnn_2(out)\n",
    "        #out = self.rnn_3(out)\n",
    "        out = self.linear(out)\n",
    "        \n",
    "        return out\n",
    "    \n",
    "embedding_size = 512\n",
    "hidden_size = 2048\n",
    "model = TextGenerator(tokenizer.num_words + 1, embedding_size, hidden_size)"
   ]
  },
  {
   "cell_type": "code",
   "execution_count": 11,
   "id": "c6bed0e2",
   "metadata": {},
   "outputs": [],
   "source": [
    "history = [] #loss 값 확인을 위해 history에 저장하자.\n",
    "epochs = 10\n",
    "\n",
    "optimizer = tf.keras.optimizers.Adam()\n",
    "loss = tf.keras.losses.SparseCategoricalCrossentropy(from_logits=True, reduction='none')\n",
    "\n",
    "model.compile(loss=loss, optimizer=optimizer)"
   ]
  },
  {
   "cell_type": "code",
   "execution_count": 12,
   "id": "18cc27c7",
   "metadata": {},
   "outputs": [
    {
     "data": {
      "text/plain": [
       "<tf.Tensor: shape=(256, 14, 12001), dtype=float32, numpy=\n",
       "array([[[-3.08286166e-04, -1.05314815e-04,  2.11993683e-04, ...,\n",
       "         -1.53507979e-04,  3.36276629e-04,  2.81169545e-04],\n",
       "        [-4.85586643e-04, -1.20582925e-04,  3.73994291e-04, ...,\n",
       "         -5.36043372e-04,  5.05706703e-04,  2.86806462e-04],\n",
       "        [-6.82273065e-04, -1.99608723e-04,  3.99146113e-04, ...,\n",
       "         -6.30200957e-04,  4.23604157e-04,  3.72720766e-04],\n",
       "        ...,\n",
       "        [ 1.63776428e-03,  4.06999665e-04,  1.57505085e-04, ...,\n",
       "          1.94502776e-04,  3.71674505e-05,  2.33442741e-04],\n",
       "        [ 2.01546983e-03,  3.29686591e-04,  5.77153056e-04, ...,\n",
       "          3.45446133e-05, -7.98071851e-05,  1.26645216e-04],\n",
       "        [ 2.33183615e-03,  2.15672306e-04,  1.03582768e-03, ...,\n",
       "         -1.25630628e-04, -2.21029986e-04,  1.69234481e-05]],\n",
       "\n",
       "       [[-3.08286166e-04, -1.05314815e-04,  2.11993683e-04, ...,\n",
       "         -1.53507979e-04,  3.36276629e-04,  2.81169545e-04],\n",
       "        [-7.26703613e-04, -2.26518343e-04,  4.84242453e-04, ...,\n",
       "         -1.77029040e-04,  4.05900966e-04,  2.17912544e-04],\n",
       "        [-8.41952395e-04, -1.18050419e-04,  2.82320892e-04, ...,\n",
       "          2.31180329e-05,  6.95400231e-04,  1.19044998e-04],\n",
       "        ...,\n",
       "        [ 9.84674785e-04,  1.00633770e-05,  1.77121954e-04, ...,\n",
       "         -1.21564907e-03, -9.19973711e-04, -1.15226023e-03],\n",
       "        [ 1.32494967e-03, -2.46225944e-04,  6.97954150e-04, ...,\n",
       "         -1.45075493e-03, -9.69344284e-04, -1.24633289e-03],\n",
       "        [ 1.61132473e-03, -4.75046079e-04,  1.22596452e-03, ...,\n",
       "         -1.63116900e-03, -1.03303057e-03, -1.30187604e-03]],\n",
       "\n",
       "       [[-3.08286166e-04, -1.05314815e-04,  2.11993683e-04, ...,\n",
       "         -1.53507979e-04,  3.36276629e-04,  2.81169545e-04],\n",
       "        [-3.86474392e-04, -4.03249032e-05, -6.29257484e-05, ...,\n",
       "         -3.53244774e-04,  5.67648909e-04,  4.33813286e-04],\n",
       "        [-4.54169931e-04, -5.08787198e-05, -9.20387174e-05, ...,\n",
       "         -3.14059958e-04,  7.67633028e-04,  8.13119696e-04],\n",
       "        ...,\n",
       "        [ 2.19966122e-03,  5.31523314e-04,  7.04629521e-04, ...,\n",
       "          3.63278843e-04, -4.97195870e-04, -7.08419073e-04],\n",
       "        [ 2.45386106e-03,  2.43441667e-04,  1.15757645e-03, ...,\n",
       "          5.12723382e-05, -5.55317034e-04, -8.02955532e-04],\n",
       "        [ 2.64220499e-03, -1.61268235e-05,  1.61610288e-03, ...,\n",
       "         -2.27876153e-04, -6.36399491e-04, -8.65786336e-04]],\n",
       "\n",
       "       ...,\n",
       "\n",
       "       [[-3.08286166e-04, -1.05314815e-04,  2.11993683e-04, ...,\n",
       "         -1.53507979e-04,  3.36276629e-04,  2.81169545e-04],\n",
       "        [-1.78900853e-04, -1.97469373e-04,  3.14035453e-04, ...,\n",
       "          9.49942405e-05,  6.87541033e-04,  6.28216018e-04],\n",
       "        [-1.80054252e-04, -1.03709332e-04,  3.74839990e-04, ...,\n",
       "          5.73846279e-04,  6.35055592e-04,  5.59727137e-04],\n",
       "        ...,\n",
       "        [ 6.24103122e-04, -1.28640822e-04,  7.07701431e-04, ...,\n",
       "          6.42187020e-04, -1.39436172e-03, -2.87125190e-03],\n",
       "        [ 1.10246753e-03, -2.75612547e-04,  1.02381327e-03, ...,\n",
       "          9.00435771e-05, -1.27303507e-03, -2.80586188e-03],\n",
       "        [ 1.53625093e-03, -4.04949940e-04,  1.38629240e-03, ...,\n",
       "         -3.69023415e-04, -1.16957084e-03, -2.70117214e-03]],\n",
       "\n",
       "       [[-3.08286166e-04, -1.05314815e-04,  2.11993683e-04, ...,\n",
       "         -1.53507979e-04,  3.36276629e-04,  2.81169545e-04],\n",
       "        [-2.45312607e-04, -2.70479795e-04,  2.16933389e-04, ...,\n",
       "         -2.63993599e-04,  3.00875952e-04,  3.41627165e-04],\n",
       "        [-1.46541170e-05, -3.83554492e-04,  4.74400877e-04, ...,\n",
       "         -4.32574801e-04,  3.47449241e-04,  2.38234221e-04],\n",
       "        ...,\n",
       "        [ 9.10011411e-04, -3.90019559e-05,  5.78297069e-04, ...,\n",
       "          8.61520064e-04, -6.86825893e-04, -1.30919227e-03],\n",
       "        [ 1.02652935e-03, -1.49905816e-06,  4.77997877e-04, ...,\n",
       "          8.00028269e-04, -6.70686248e-04, -1.36574032e-03],\n",
       "        [ 1.23653584e-03, -8.41865840e-05,  4.98356880e-04, ...,\n",
       "          5.45395247e-04, -6.48636895e-04, -1.38026255e-03]],\n",
       "\n",
       "       [[-3.08286166e-04, -1.05314815e-04,  2.11993683e-04, ...,\n",
       "         -1.53507979e-04,  3.36276629e-04,  2.81169545e-04],\n",
       "        [-4.44217323e-04, -1.73473909e-05,  2.95088510e-04, ...,\n",
       "          1.14528484e-04,  1.97704227e-04,  1.38598320e-04],\n",
       "        [-1.00242894e-03,  1.18345801e-04,  4.76330082e-04, ...,\n",
       "         -1.56135371e-04, -4.60265059e-04,  3.57618585e-04],\n",
       "        ...,\n",
       "        [ 1.50932744e-03, -3.91442300e-04,  2.04398995e-03, ...,\n",
       "         -1.49710255e-03, -1.72804971e-03, -8.89418065e-04],\n",
       "        [ 1.85546547e-03, -5.50389988e-04,  2.41802027e-03, ...,\n",
       "         -1.60918443e-03, -1.72471185e-03, -9.38195037e-04],\n",
       "        [ 2.11727433e-03, -6.82012353e-04,  2.78544379e-03, ...,\n",
       "         -1.69269787e-03, -1.74068194e-03, -9.49981040e-04]]],\n",
       "      dtype=float32)>"
      ]
     },
     "execution_count": 12,
     "metadata": {},
     "output_type": "execute_result"
    }
   ],
   "source": [
    "for src_sample, tg_sample in dataset.take(1):break\n",
    "    \n",
    "model(src_sample)"
   ]
  },
  {
   "cell_type": "code",
   "execution_count": 13,
   "id": "97987efa",
   "metadata": {
    "scrolled": true
   },
   "outputs": [
    {
     "name": "stdout",
     "output_type": "stream",
     "text": [
      "Model: \"text_generator\"\n",
      "_________________________________________________________________\n",
      "Layer (type)                 Output Shape              Param #   \n",
      "=================================================================\n",
      "embedding (Embedding)        multiple                  6144512   \n",
      "_________________________________________________________________\n",
      "lstm (LSTM)                  multiple                  20979712  \n",
      "_________________________________________________________________\n",
      "lstm_1 (LSTM)                multiple                  33562624  \n",
      "_________________________________________________________________\n",
      "dense (Dense)                multiple                  24590049  \n",
      "=================================================================\n",
      "Total params: 85,276,897\n",
      "Trainable params: 85,276,897\n",
      "Non-trainable params: 0\n",
      "_________________________________________________________________\n"
     ]
    }
   ],
   "source": [
    "model.summary()"
   ]
  },
  {
   "cell_type": "code",
   "execution_count": 14,
   "id": "38287d5f",
   "metadata": {},
   "outputs": [
    {
     "name": "stdout",
     "output_type": "stream",
     "text": [
      "Epoch 1/10\n",
      "488/488 [==============================] - 249s 506ms/step - loss: 3.3094 - val_loss: 2.9379\n",
      "Epoch 2/10\n",
      "488/488 [==============================] - 250s 512ms/step - loss: 2.7862 - val_loss: 2.7073\n",
      "Epoch 3/10\n",
      "488/488 [==============================] - 250s 513ms/step - loss: 2.5113 - val_loss: 2.5350\n",
      "Epoch 4/10\n",
      "488/488 [==============================] - 250s 513ms/step - loss: 2.2409 - val_loss: 2.4044\n",
      "Epoch 5/10\n",
      "488/488 [==============================] - 251s 514ms/step - loss: 1.9757 - val_loss: 2.3003\n",
      "Epoch 6/10\n",
      "488/488 [==============================] - 251s 514ms/step - loss: 1.7258 - val_loss: 2.2232\n",
      "Epoch 7/10\n",
      "488/488 [==============================] - 252s 516ms/step - loss: 1.5045 - val_loss: 2.1707\n",
      "Epoch 8/10\n",
      "488/488 [==============================] - 252s 516ms/step - loss: 1.3192 - val_loss: 2.1444\n",
      "Epoch 9/10\n",
      "488/488 [==============================] - 252s 516ms/step - loss: 1.1762 - val_loss: 2.1439\n",
      "Epoch 10/10\n",
      "488/488 [==============================] - 251s 515ms/step - loss: 1.0756 - val_loss: 2.1533\n"
     ]
    }
   ],
   "source": [
    "history = model.fit(enc_train, dec_train, epochs=epochs, batch_size=256, validation_data=(enc_val, dec_val), verbose=1)"
   ]
  },
  {
   "cell_type": "markdown",
   "id": "7f425c3c",
   "metadata": {},
   "source": [
    "### 모델 평가하기\n",
    "- 작문 모델을 평가하는 과정에 있어서, 가장 확실한 방법은 작문을 시킨 후 사람이 직접 평가하는 것이므로 텍스트를 생성하여 확인해보자."
   ]
  },
  {
   "cell_type": "code",
   "execution_count": 15,
   "id": "1207c218",
   "metadata": {},
   "outputs": [],
   "source": [
    "def generate_text(model, tokenizer, init_sentence=\"<start>\", max_len=20):\n",
    "    test_input = tokenizer.texts_to_sequences([init_sentence])\n",
    "    test_tensor = tf.convert_to_tensor(test_input, dtype=tf.int64)\n",
    "    end_token = tokenizer.word_index[\"<end>\"]\n",
    "    \n",
    "    while True:\n",
    "        predict = model(test_tensor)\n",
    "        predict_word = tf.argmax(tf.nn.softmax(predict, axis=-1), axis=-1)[:, -1]\n",
    "        test_tensor = tf.concat([test_tensor, tf.expand_dims(predict_word, axis=0)], axis=-1)\n",
    "        \n",
    "        if predict_word.numpy()[0] == end_token: break\n",
    "        if test_tensor.shape[1] >= max_len: break\n",
    "            \n",
    "    generated = \"\"\n",
    "    \n",
    "    for word_index in test_tensor[0].numpy():\n",
    "        generated += tokenizer.index_word[word_index] + \" \"\n",
    "        \n",
    "    return generated"
   ]
  },
  {
   "cell_type": "code",
   "execution_count": 17,
   "id": "cf122236",
   "metadata": {},
   "outputs": [
    {
     "name": "stdout",
     "output_type": "stream",
     "text": [
      "<start> i learn to make the worst seem better <end> \n"
     ]
    }
   ],
   "source": [
    "Text = generate_text(model, tokenizer, init_sentence=\"<start> I learn\")\n",
    "print(Text)"
   ]
  },
  {
   "cell_type": "markdown",
   "id": "9e541cdb",
   "metadata": {},
   "source": [
    "해석을 한다면, \"최악의 상황을 더 좋게 만드는 법을 배운다\"라고 해석을 할 수 있으다.\n",
    "따라서 문장을 잘 만들어 낸다고 볼 수 있다."
   ]
  },
  {
   "cell_type": "markdown",
   "id": "b4c17a5b",
   "metadata": {},
   "source": [
    "우선 학습하는 것에 있어 CV에 비해 비교적 오랜 시간의 학습을 한 것 같고 루브릭의 3번째 조건인 validation loss를 2.2 이하를 만들기 위해 여러가지 작업을 진행해 보았다.\n",
    "- RNN layer를 추가해보았다. 하지만 RNN layer를 추가하니 오히려 2개의 RNN을 가지고 있을 때 보다 성능이 더 낮아지게 되었다.\n",
    "- embedding size의 값을 여러 수정하였다.데이터 수가 적다면 embedding size가 컸을 때, 좋지 않을 결과 값을 내지만 지금처럼 어느 정도의 데이터가 있다면 충분히 embedding size의 값을 올려가며 실험을 진행하였다.\n"
   ]
  },
  {
   "cell_type": "code",
   "execution_count": null,
   "id": "908091ac",
   "metadata": {},
   "outputs": [],
   "source": []
  }
 ],
 "metadata": {
  "kernelspec": {
   "display_name": "Python 3 (ipykernel)",
   "language": "python",
   "name": "python3"
  },
  "language_info": {
   "codemirror_mode": {
    "name": "ipython",
    "version": 3
   },
   "file_extension": ".py",
   "mimetype": "text/x-python",
   "name": "python",
   "nbconvert_exporter": "python",
   "pygments_lexer": "ipython3",
   "version": "3.9.7"
  }
 },
 "nbformat": 4,
 "nbformat_minor": 5
}
