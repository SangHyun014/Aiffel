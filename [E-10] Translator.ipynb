{
 "cells": [
  {
   "cell_type": "markdown",
   "id": "4bda7692",
   "metadata": {},
   "source": [
    "# 루브릭\n",
    "1. 번역기 모델 학습에 필요한 텍스트 데이터 전처리가 잘 이루어졌다.\n",
    "    - 구두점, 대소문자, 띄어쓰기 등 번역기 모델에 요구되는 전처리가 정상적으로 진행되었다.\n",
    "2. seq2seq 기반의 번역기 모델이 정상적으로 구동된다.\n",
    "    - seq2seq 모델 훈련 결과를 그래프로 출력해보고, validation loss 그래프가 우하향하는 경향성을 보인다.\n",
    "3. 테스트 결과 의미가 통하는 수준의 번역문이 생성되었다.\n",
    "    - 테스트용 디코더 모델이 정상적으로 만들어졌으며, input(영어)와 output(프랑스어) 모두 한글로 번역해서 결과를 출력해보았고, 둘의 내용이 유사함을 확인하였다.\n",
    "    \n",
    "## 필요한 라이브러리 불러오기"
   ]
  },
  {
   "cell_type": "code",
   "execution_count": 1,
   "id": "728d59d9",
   "metadata": {},
   "outputs": [],
   "source": [
    "import pandas as pd\n",
    "from tensorflow.keras.preprocessing.text import Tokenizer\n",
    "from tensorflow.keras.preprocessing.sequence import pad_sequences\n",
    "from tensorflow.keras.utils import to_categorical\n",
    "import numpy as np\n",
    "import re\n",
    "from tensorflow.keras.layers import Input, LSTM, Embedding, Dense, Masking, Dropout\n",
    "from tensorflow.keras.models import Model\n",
    "import matplotlib.pyplot as plt"
   ]
  },
  {
   "cell_type": "markdown",
   "id": "37264c75",
   "metadata": {},
   "source": [
    "## 데이터 불러오기"
   ]
  },
  {
   "cell_type": "code",
   "execution_count": 2,
   "id": "7f215a7a",
   "metadata": {},
   "outputs": [
    {
     "name": "stdout",
     "output_type": "stream",
     "text": [
      "전체 샘플의 수 : 217975\n"
     ]
    },
    {
     "data": {
      "text/html": [
       "<div>\n",
       "<style scoped>\n",
       "    .dataframe tbody tr th:only-of-type {\n",
       "        vertical-align: middle;\n",
       "    }\n",
       "\n",
       "    .dataframe tbody tr th {\n",
       "        vertical-align: top;\n",
       "    }\n",
       "\n",
       "    .dataframe thead th {\n",
       "        text-align: right;\n",
       "    }\n",
       "</style>\n",
       "<table border=\"1\" class=\"dataframe\">\n",
       "  <thead>\n",
       "    <tr style=\"text-align: right;\">\n",
       "      <th></th>\n",
       "      <th>eng</th>\n",
       "      <th>fra</th>\n",
       "      <th>cc</th>\n",
       "    </tr>\n",
       "  </thead>\n",
       "  <tbody>\n",
       "    <tr>\n",
       "      <th>150085</th>\n",
       "      <td>I have never seen anyone like him.</td>\n",
       "      <td>Je n'ai jamais vu quelqu'un comme lui.</td>\n",
       "      <td>CC-BY 2.0 (France) Attribution: tatoeba.org #1...</td>\n",
       "    </tr>\n",
       "    <tr>\n",
       "      <th>208052</th>\n",
       "      <td>She began doing her homework immediately after...</td>\n",
       "      <td>Elle commença à faire ses devoirs immédiatemen...</td>\n",
       "      <td>CC-BY 2.0 (France) Attribution: tatoeba.org #1...</td>\n",
       "    </tr>\n",
       "    <tr>\n",
       "      <th>28252</th>\n",
       "      <td>The crowd clapped.</td>\n",
       "      <td>La foule applaudit.</td>\n",
       "      <td>CC-BY 2.0 (France) Attribution: tatoeba.org #2...</td>\n",
       "    </tr>\n",
       "    <tr>\n",
       "      <th>151922</th>\n",
       "      <td>Put on your pajamas and go to bed.</td>\n",
       "      <td>Mettez-vous en pyjama et allez au lit.</td>\n",
       "      <td>CC-BY 2.0 (France) Attribution: tatoeba.org #6...</td>\n",
       "    </tr>\n",
       "    <tr>\n",
       "      <th>181295</th>\n",
       "      <td>This is the fastest car in our showroom.</td>\n",
       "      <td>C'est la bagnole la plus rapide de notre hall ...</td>\n",
       "      <td>CC-BY 2.0 (France) Attribution: tatoeba.org #9...</td>\n",
       "    </tr>\n",
       "  </tbody>\n",
       "</table>\n",
       "</div>"
      ],
      "text/plain": [
       "                                                      eng  \\\n",
       "150085                 I have never seen anyone like him.   \n",
       "208052  She began doing her homework immediately after...   \n",
       "28252                                  The crowd clapped.   \n",
       "151922                 Put on your pajamas and go to bed.   \n",
       "181295           This is the fastest car in our showroom.   \n",
       "\n",
       "                                                      fra  \\\n",
       "150085             Je n'ai jamais vu quelqu'un comme lui.   \n",
       "208052  Elle commença à faire ses devoirs immédiatemen...   \n",
       "28252                                 La foule applaudit.   \n",
       "151922             Mettez-vous en pyjama et allez au lit.   \n",
       "181295  C'est la bagnole la plus rapide de notre hall ...   \n",
       "\n",
       "                                                       cc  \n",
       "150085  CC-BY 2.0 (France) Attribution: tatoeba.org #1...  \n",
       "208052  CC-BY 2.0 (France) Attribution: tatoeba.org #1...  \n",
       "28252   CC-BY 2.0 (France) Attribution: tatoeba.org #2...  \n",
       "151922  CC-BY 2.0 (France) Attribution: tatoeba.org #6...  \n",
       "181295  CC-BY 2.0 (France) Attribution: tatoeba.org #9...  "
      ]
     },
     "execution_count": 2,
     "metadata": {},
     "output_type": "execute_result"
    }
   ],
   "source": [
    "import os\n",
    "file_path = os.getenv('HOME')+'/aiffel/translator_seq2seq/data/fra.txt'\n",
    "lines = pd.read_csv(file_path, names=['eng', 'fra', 'cc'], sep='\\t')\n",
    "print('전체 샘플의 수 :',len(lines))\n",
    "lines.sample(5) #샘플 5개 출력"
   ]
  },
  {
   "cell_type": "code",
   "execution_count": 3,
   "id": "f99ca081",
   "metadata": {},
   "outputs": [
    {
     "data": {
      "text/html": [
       "<div>\n",
       "<style scoped>\n",
       "    .dataframe tbody tr th:only-of-type {\n",
       "        vertical-align: middle;\n",
       "    }\n",
       "\n",
       "    .dataframe tbody tr th {\n",
       "        vertical-align: top;\n",
       "    }\n",
       "\n",
       "    .dataframe thead th {\n",
       "        text-align: right;\n",
       "    }\n",
       "</style>\n",
       "<table border=\"1\" class=\"dataframe\">\n",
       "  <thead>\n",
       "    <tr style=\"text-align: right;\">\n",
       "      <th></th>\n",
       "      <th>eng</th>\n",
       "      <th>fra</th>\n",
       "    </tr>\n",
       "  </thead>\n",
       "  <tbody>\n",
       "    <tr>\n",
       "      <th>66350</th>\n",
       "      <td>Tom hasn't arrived yet.</td>\n",
       "      <td>Tom n'est pas encore arrivé.</td>\n",
       "    </tr>\n",
       "    <tr>\n",
       "      <th>69466</th>\n",
       "      <td>He did not speak at all.</td>\n",
       "      <td>Il n'a absolument rien dit.</td>\n",
       "    </tr>\n",
       "    <tr>\n",
       "      <th>84978</th>\n",
       "      <td>You're a horrible driver.</td>\n",
       "      <td>Tu conduis très mal.</td>\n",
       "    </tr>\n",
       "    <tr>\n",
       "      <th>87093</th>\n",
       "      <td>I didn't mean to say that.</td>\n",
       "      <td>Je ne voulais pas dire ça.</td>\n",
       "    </tr>\n",
       "    <tr>\n",
       "      <th>65088</th>\n",
       "      <td>She's younger than him.</td>\n",
       "      <td>Elle est plus jeune que lui.</td>\n",
       "    </tr>\n",
       "  </tbody>\n",
       "</table>\n",
       "</div>"
      ],
      "text/plain": [
       "                              eng                           fra\n",
       "66350     Tom hasn't arrived yet.  Tom n'est pas encore arrivé.\n",
       "69466    He did not speak at all.   Il n'a absolument rien dit.\n",
       "84978   You're a horrible driver.          Tu conduis très mal.\n",
       "87093  I didn't mean to say that.    Je ne voulais pas dire ça.\n",
       "65088     She's younger than him.  Elle est plus jeune que lui."
      ]
     },
     "execution_count": 3,
     "metadata": {},
     "output_type": "execute_result"
    }
   ],
   "source": [
    "lines = lines[['eng', 'fra']][60000:93000] # 5만개 샘플 사용\n",
    "lines.sample(5)"
   ]
  },
  {
   "cell_type": "code",
   "execution_count": 4,
   "id": "618a620f",
   "metadata": {},
   "outputs": [
    {
     "data": {
      "text/plain": [
       "array(['You were there, right?', 'You will stay at home.',\n",
       "       \"You won't be punished.\", ..., 'What time did you wake up?',\n",
       "       'What time did you wake up?', 'What time did you wake up?'],\n",
       "      dtype=object)"
      ]
     },
     "execution_count": 4,
     "metadata": {},
     "output_type": "execute_result"
    }
   ],
   "source": [
    "#영어와 프랑스어 분리하기\n",
    "lines_np_eng= lines['eng'].to_numpy()\n",
    "lines_np_fra= lines['fra'].to_numpy()\n",
    "lines_np_eng"
   ]
  },
  {
   "cell_type": "markdown",
   "id": "4215a693",
   "metadata": {},
   "source": [
    "## 정제, 정규화, 전처리 하기\n",
    "#### 필요한 함수 정의하기"
   ]
  },
  {
   "cell_type": "code",
   "execution_count": 5,
   "id": "a58eaeef",
   "metadata": {},
   "outputs": [],
   "source": [
    "sos_token = '<start> '\n",
    "eos_token = ' <end>'\n",
    "\n",
    "\n",
    "def preprocess(line, plus_token = True):\n",
    "    #소문자로 변경하기\n",
    "    line = line.lower().strip()\n",
    "    #구두점 분리하기\n",
    "    line = re.sub(r\"([?.!,¿])\", r\" \\1 \", line)\n",
    "    line = re.sub(r'[\" \"]+', \" \", line)\n",
    "    line = re.sub(r\"[^a-zA-Z?.!,¿]+\", \" \", line)\n",
    "    \n",
    "    line = line.strip()\n",
    "    \n",
    "    if plus_token == True:\n",
    "        line = sos_token + line + eos_token\n",
    "        \n",
    "    return line"
   ]
  },
  {
   "cell_type": "code",
   "execution_count": 6,
   "id": "36b0d770",
   "metadata": {},
   "outputs": [],
   "source": [
    "#토큰화 함수\n",
    "def tokenize(corpus):\n",
    "    tokenizer = Tokenizer(num_words=7000,\n",
    "                         filters=' ',\n",
    "                         oov_token='<unk>')\n",
    "    tokenizer.fit_on_texts(corpus)\n",
    "    tensor = tokenizer.texts_to_sequences(corpus)\n",
    "    \n",
    "    return tensor, tokenizer"
   ]
  },
  {
   "cell_type": "markdown",
   "id": "7d4af3f0",
   "metadata": {},
   "source": [
    "#### 영어, 프랑스어 전처리하기"
   ]
  },
  {
   "cell_type": "code",
   "execution_count": 7,
   "id": "9f2377b3",
   "metadata": {},
   "outputs": [],
   "source": [
    "eng_lines = []\n",
    "fra_lines = []\n",
    "\n",
    "for eng, fra in zip(lines.eng, lines.fra):\n",
    "    if len(eng) == 0: continue\n",
    "    if len(fra) == 0: continue\n",
    "        \n",
    "    eng_lines.append(preprocess(eng, plus_token=False))\n",
    "    fra_lines.append(preprocess(fra))"
   ]
  },
  {
   "cell_type": "code",
   "execution_count": 8,
   "id": "79a1be4f",
   "metadata": {},
   "outputs": [
    {
     "data": {
      "text/plain": [
       "(33000,)"
      ]
     },
     "execution_count": 8,
     "metadata": {},
     "output_type": "execute_result"
    }
   ],
   "source": [
    "np.shape(eng_lines)"
   ]
  },
  {
   "cell_type": "code",
   "execution_count": 9,
   "id": "7f5c628a",
   "metadata": {},
   "outputs": [
    {
     "data": {
      "text/plain": [
       "[[2, 15, 105, 23, 374, 34, 19, 7, 22, 8, 6, 3],\n",
       " [2, 15, 3036, 151, 78, 4, 3],\n",
       " [2, 15, 13, 1135, 8, 3723, 4, 3],\n",
       " [2, 10, 19, 347, 8, 16, 1519, 4, 3],\n",
       " [2, 15, 13, 389, 8, 16, 1519, 4, 3],\n",
       " [2, 10, 19, 1647, 8, 17, 4, 3],\n",
       " [2, 15, 443, 176, 9, 5098, 4, 3],\n",
       " [2, 15, 443, 176, 9, 35, 20, 128, 278, 4, 3],\n",
       " [2, 15, 443, 176, 9, 26, 841, 72, 4, 3],\n",
       " [2, 10, 1136, 176, 9, 10, 841, 72, 4, 3]]"
      ]
     },
     "execution_count": 9,
     "metadata": {},
     "output_type": "execute_result"
    }
   ],
   "source": [
    "eng_tensor, eng_tokenizer = tokenize(eng_lines)\n",
    "fra_tensor, fra_tokenizer = tokenize(fra_lines)\n",
    "fra_tensor[:10]"
   ]
  },
  {
   "cell_type": "markdown",
   "id": "700fdbb6",
   "metadata": {},
   "source": [
    "#### input, target 설정하기"
   ]
  },
  {
   "cell_type": "code",
   "execution_count": 10,
   "id": "b3021f84",
   "metadata": {},
   "outputs": [],
   "source": [
    "encoder_input = eng_tensor\n",
    "#종료 토큰 제거\n",
    "decoder_input = [[char for char in line if char != fra_tokenizer.word_index['<end>']] for line in fra_tensor]\n",
    "decoder_target = [[char for char in line if char != fra_tokenizer.word_index['<start>']] for line in fra_tensor]"
   ]
  },
  {
   "cell_type": "markdown",
   "id": "fda4e8b3",
   "metadata": {},
   "source": [
    "#### padding 추가하기"
   ]
  },
  {
   "cell_type": "code",
   "execution_count": 11,
   "id": "be262d7c",
   "metadata": {},
   "outputs": [],
   "source": [
    "def pad_tensor(tensor):\n",
    "    total_data_text = list(tensor)\n",
    "    num_tokens = [len(tokens) for tokens in total_data_text]\n",
    "    max_tokens = max(num_tokens)\n",
    "    maxlen = int(max_tokens)\n",
    "    tensor = pad_sequences(tensor, padding='post', maxlen=maxlen)\n",
    "    return tensor"
   ]
  },
  {
   "cell_type": "code",
   "execution_count": 12,
   "id": "dbaa852b",
   "metadata": {},
   "outputs": [
    {
     "name": "stdout",
     "output_type": "stream",
     "text": [
      "영어 데이터의 크기 :  (33000, 10)\n",
      "프랑스어 입력데이터의 크기 :  (33000, 17)\n",
      "프랑스어 출력데이터의 크기 :  (33000, 17)\n"
     ]
    }
   ],
   "source": [
    "encoder_input = pad_tensor(encoder_input)\n",
    "decoder_input = pad_tensor(decoder_input)\n",
    "decoder_target = pad_tensor(decoder_target)\n",
    "print('영어 데이터의 크기 : ', encoder_input.shape)\n",
    "print('프랑스어 입력데이터의 크기 : ', decoder_input.shape)\n",
    "print('프랑스어 출력데이터의 크기 : ', decoder_target.shape)"
   ]
  },
  {
   "cell_type": "code",
   "execution_count": 13,
   "id": "3d7b9792",
   "metadata": {},
   "outputs": [],
   "source": [
    "eng_vocab_size = len(eng_tokenizer.word_index)+1\n",
    "fra_vocab_size = len(fra_tokenizer.word_index)+1\n",
    "\n",
    "max_eng_seq_len = encoder_input.shape[1]\n",
    "max_fra_seq_len = decoder_input.shape[1]"
   ]
  },
  {
   "cell_type": "code",
   "execution_count": 14,
   "id": "1c21cf62",
   "metadata": {},
   "outputs": [
    {
     "name": "stdout",
     "output_type": "stream",
     "text": [
      "전체 샘플의 수 : 33000\n",
      "영어 단어장의 크기 : 5795\n",
      "프랑스어 단어장의 크기 : 8297\n",
      "영어 시퀀스의 최대 길이 : 10\n",
      "프랑스어 시퀀스의 최대 길이 : 17\n"
     ]
    }
   ],
   "source": [
    "print('전체 샘플의 수 :',len(lines))\n",
    "print('영어 단어장의 크기 :', eng_vocab_size)\n",
    "print('프랑스어 단어장의 크기 :', fra_vocab_size)\n",
    "print('영어 시퀀스의 최대 길이 :', max_eng_seq_len)\n",
    "print('프랑스어 시퀀스의 최대 길이 :', max_fra_seq_len)"
   ]
  },
  {
   "cell_type": "markdown",
   "id": "fb0430f0",
   "metadata": {},
   "source": [
    "#### train, test dataset 나누기"
   ]
  },
  {
   "cell_type": "code",
   "execution_count": 15,
   "id": "77082ca1",
   "metadata": {},
   "outputs": [],
   "source": [
    "indices = np.arange(encoder_input.shape[0])\n",
    "np.random.shuffle(indices)\n",
    "\n",
    "encoder_input = encoder_input[indices]\n",
    "decoder_input = decoder_input[indices]\n",
    "decoder_target = decoder_target[indices]"
   ]
  },
  {
   "cell_type": "code",
   "execution_count": 16,
   "id": "949c82a6",
   "metadata": {},
   "outputs": [
    {
     "name": "stdout",
     "output_type": "stream",
     "text": [
      "영어 학습데이터의 크기(shape) : (30000, 10)\n",
      "프랑스어 학습 입력데이터의 크기(shape) : (30000, 17)\n",
      "프랑스어 학습 출력데이터의 크기(shape) : (30000, 17)\n",
      "영어 학습데이터의 크기(shape) : (3000, 10)\n",
      "프랑스어 학습 입력데이터의 크기(shape) : (3000, 17)\n",
      "프랑스어 학습 출력데이터의 크기(shape) : (3000, 17)\n"
     ]
    }
   ],
   "source": [
    "n_of_val = 3000\n",
    "\n",
    "encoder_input_train = encoder_input[:-n_of_val]\n",
    "decoder_input_train = decoder_input[:-n_of_val]\n",
    "decoder_target_train = decoder_target[:-n_of_val]\n",
    "\n",
    "encoder_input_test = encoder_input[-n_of_val:]\n",
    "decoder_input_test = decoder_input[-n_of_val:]\n",
    "decoder_target_test = decoder_target[-n_of_val:]\n",
    "\n",
    "print('영어 학습데이터의 크기(shape) :', encoder_input_train.shape)\n",
    "print('프랑스어 학습 입력데이터의 크기(shape) :',decoder_input_train.shape)\n",
    "print('프랑스어 학습 출력데이터의 크기(shape) :',decoder_target_train.shape)\n",
    "print('영어 학습데이터의 크기(shape) :', encoder_input_test.shape)\n",
    "print('프랑스어 학습 입력데이터의 크기(shape) :',decoder_input_test.shape)\n",
    "print('프랑스어 학습 출력데이터의 크기(shape) :',decoder_target_test.shape)"
   ]
  },
  {
   "cell_type": "markdown",
   "id": "9ec71dd3",
   "metadata": {},
   "source": [
    "## Embedding layer 사용하기\n",
    "#### Encoder"
   ]
  },
  {
   "cell_type": "code",
   "execution_count": 17,
   "id": "94a54297",
   "metadata": {},
   "outputs": [],
   "source": [
    "embedding_size = 1024\n",
    "hidden_size = 1024\n",
    "\n",
    "encoder_inputs = Input(shape=(None, ), name='encoder_input')\n",
    "enc_emb = Embedding(eng_vocab_size, embedding_size, input_length=max_eng_seq_len)(encoder_inputs)\n",
    "enc_masking = Masking(mask_value=0.0)(enc_emb)\n",
    "encoder_lstm = LSTM(hidden_size, dropout=0.6, return_state=True)\n",
    "encoder_outputs, state_h, state_c = encoder_lstm(enc_masking)\n",
    "encoder_states = [state_h, state_c]"
   ]
  },
  {
   "cell_type": "markdown",
   "id": "fee06bdc",
   "metadata": {},
   "source": [
    "Decoder"
   ]
  },
  {
   "cell_type": "code",
   "execution_count": 18,
   "id": "084dd269",
   "metadata": {},
   "outputs": [],
   "source": [
    "decoder_inputs = Input(shape=(None, ), name='decoder_input')\n",
    "dec_emb = Embedding(fra_vocab_size, embedding_size)(decoder_inputs)\n",
    "dec_masking = Masking(mask_value=0.0)(dec_emb)\n",
    "decoder_lstm = LSTM(hidden_size, dropout=0.6, return_sequences=True, return_state=True)\n",
    "decoder_outputs, _, _ = decoder_lstm(dec_masking, initial_state=encoder_states)"
   ]
  },
  {
   "cell_type": "code",
   "execution_count": 19,
   "id": "cf7d574d",
   "metadata": {},
   "outputs": [],
   "source": [
    "decoder_softmax_layer = Dense(fra_vocab_size, activation='softmax')\n",
    "decoder_outputs = decoder_softmax_layer(decoder_outputs)"
   ]
  },
  {
   "cell_type": "code",
   "execution_count": 20,
   "id": "3db26196",
   "metadata": {},
   "outputs": [],
   "source": [
    "model = Model([encoder_inputs, decoder_inputs], decoder_outputs)\n",
    "model.compile(optimizer='rmsprop', loss='sparse_categorical_crossentropy')"
   ]
  },
  {
   "cell_type": "code",
   "execution_count": 21,
   "id": "332f4da4",
   "metadata": {},
   "outputs": [
    {
     "name": "stdout",
     "output_type": "stream",
     "text": [
      "Model: \"model\"\n",
      "__________________________________________________________________________________________________\n",
      "Layer (type)                    Output Shape         Param #     Connected to                     \n",
      "==================================================================================================\n",
      "encoder_input (InputLayer)      [(None, None)]       0                                            \n",
      "__________________________________________________________________________________________________\n",
      "decoder_input (InputLayer)      [(None, None)]       0                                            \n",
      "__________________________________________________________________________________________________\n",
      "embedding (Embedding)           (None, None, 1024)   5934080     encoder_input[0][0]              \n",
      "__________________________________________________________________________________________________\n",
      "embedding_1 (Embedding)         (None, None, 1024)   8496128     decoder_input[0][0]              \n",
      "__________________________________________________________________________________________________\n",
      "masking (Masking)               (None, None, 1024)   0           embedding[0][0]                  \n",
      "__________________________________________________________________________________________________\n",
      "masking_1 (Masking)             (None, None, 1024)   0           embedding_1[0][0]                \n",
      "__________________________________________________________________________________________________\n",
      "lstm (LSTM)                     [(None, 1024), (None 8392704     masking[0][0]                    \n",
      "__________________________________________________________________________________________________\n",
      "lstm_1 (LSTM)                   [(None, None, 1024), 8392704     masking_1[0][0]                  \n",
      "                                                                 lstm[0][1]                       \n",
      "                                                                 lstm[0][2]                       \n",
      "__________________________________________________________________________________________________\n",
      "dense (Dense)                   (None, None, 8297)   8504425     lstm_1[0][0]                     \n",
      "==================================================================================================\n",
      "Total params: 39,720,041\n",
      "Trainable params: 39,720,041\n",
      "Non-trainable params: 0\n",
      "__________________________________________________________________________________________________\n"
     ]
    }
   ],
   "source": [
    "model.summary()"
   ]
  },
  {
   "cell_type": "code",
   "execution_count": 22,
   "id": "79283647",
   "metadata": {},
   "outputs": [
    {
     "name": "stdout",
     "output_type": "stream",
     "text": [
      "Epoch 1/50\n",
      "938/938 [==============================] - 71s 41ms/step - loss: 1.8040 - val_loss: 1.4635\n",
      "Epoch 2/50\n",
      "938/938 [==============================] - 37s 40ms/step - loss: 1.3175 - val_loss: 1.2313\n",
      "Epoch 3/50\n",
      "938/938 [==============================] - 38s 41ms/step - loss: 1.1031 - val_loss: 1.1033\n",
      "Epoch 4/50\n",
      "938/938 [==============================] - 39s 42ms/step - loss: 0.9498 - val_loss: 1.0316\n",
      "Epoch 5/50\n",
      "938/938 [==============================] - 39s 41ms/step - loss: 0.8335 - val_loss: 0.9830\n",
      "Epoch 6/50\n",
      "938/938 [==============================] - 39s 41ms/step - loss: 0.7461 - val_loss: 0.9571\n",
      "Epoch 7/50\n",
      "938/938 [==============================] - 39s 41ms/step - loss: 0.6810 - val_loss: 0.9392\n",
      "Epoch 8/50\n",
      "938/938 [==============================] - 39s 41ms/step - loss: 0.6319 - val_loss: 0.9390\n",
      "Epoch 9/50\n",
      "938/938 [==============================] - 39s 41ms/step - loss: 0.6009 - val_loss: 0.9454\n",
      "Epoch 10/50\n",
      "938/938 [==============================] - 39s 41ms/step - loss: 0.5743 - val_loss: 0.9516\n",
      "Epoch 11/50\n",
      "938/938 [==============================] - 39s 41ms/step - loss: 0.5615 - val_loss: 0.9533\n",
      "Epoch 12/50\n",
      "938/938 [==============================] - 39s 41ms/step - loss: 0.5508 - val_loss: 0.9566\n",
      "Epoch 13/50\n",
      "938/938 [==============================] - 39s 41ms/step - loss: 0.5362 - val_loss: 0.9560\n",
      "Epoch 14/50\n",
      "938/938 [==============================] - 38s 41ms/step - loss: 0.5216 - val_loss: 0.9604\n",
      "Epoch 15/50\n",
      "938/938 [==============================] - 39s 41ms/step - loss: 0.5055 - val_loss: 0.9520\n",
      "Epoch 16/50\n",
      "938/938 [==============================] - 39s 41ms/step - loss: 0.4830 - val_loss: 0.9468\n",
      "Epoch 17/50\n",
      "938/938 [==============================] - 39s 41ms/step - loss: 0.4744 - val_loss: 0.9487\n",
      "Epoch 18/50\n",
      "938/938 [==============================] - 39s 41ms/step - loss: 0.4669 - val_loss: 0.9504\n",
      "Epoch 19/50\n",
      "938/938 [==============================] - 39s 41ms/step - loss: 0.4599 - val_loss: 0.9507\n",
      "Epoch 20/50\n",
      "938/938 [==============================] - 39s 41ms/step - loss: 0.4497 - val_loss: 0.9470\n",
      "Epoch 21/50\n",
      "938/938 [==============================] - 39s 41ms/step - loss: 0.4399 - val_loss: 0.9416\n",
      "Epoch 22/50\n",
      "938/938 [==============================] - 39s 41ms/step - loss: 0.4299 - val_loss: 0.9355\n",
      "Epoch 23/50\n",
      "938/938 [==============================] - 39s 41ms/step - loss: 0.4218 - val_loss: 0.9356\n",
      "Epoch 24/50\n",
      "938/938 [==============================] - 39s 41ms/step - loss: 0.4153 - val_loss: 0.9373\n",
      "Epoch 25/50\n",
      "938/938 [==============================] - 39s 41ms/step - loss: 0.4108 - val_loss: 0.9328\n",
      "Epoch 26/50\n",
      "938/938 [==============================] - 39s 41ms/step - loss: 0.4034 - val_loss: 0.9346\n",
      "Epoch 27/50\n",
      "938/938 [==============================] - 39s 41ms/step - loss: 0.3947 - val_loss: 0.9358\n",
      "Epoch 28/50\n",
      "938/938 [==============================] - 39s 41ms/step - loss: 0.3935 - val_loss: 0.9393\n",
      "Epoch 29/50\n",
      "938/938 [==============================] - 39s 41ms/step - loss: 0.3932 - val_loss: 0.9392\n",
      "Epoch 30/50\n",
      "938/938 [==============================] - 39s 41ms/step - loss: 0.3910 - val_loss: 0.9410\n",
      "Epoch 31/50\n",
      "938/938 [==============================] - 39s 41ms/step - loss: 0.3884 - val_loss: 0.9401\n",
      "Epoch 32/50\n",
      "938/938 [==============================] - 39s 41ms/step - loss: 0.3851 - val_loss: 0.9407\n",
      "Epoch 33/50\n",
      "938/938 [==============================] - 39s 41ms/step - loss: 0.3821 - val_loss: 0.9407\n",
      "Epoch 34/50\n",
      "938/938 [==============================] - 39s 41ms/step - loss: 0.3776 - val_loss: 0.9441\n",
      "Epoch 35/50\n",
      "938/938 [==============================] - 39s 41ms/step - loss: 0.3746 - val_loss: 0.9407\n",
      "Epoch 36/50\n",
      "938/938 [==============================] - 39s 41ms/step - loss: 0.3712 - val_loss: 0.9381\n",
      "Epoch 37/50\n",
      "938/938 [==============================] - 39s 41ms/step - loss: 0.3672 - val_loss: 0.9453\n",
      "Epoch 38/50\n",
      "938/938 [==============================] - 39s 41ms/step - loss: 0.3657 - val_loss: 0.9404\n",
      "Epoch 39/50\n",
      "938/938 [==============================] - 39s 41ms/step - loss: 0.3642 - val_loss: 0.9439\n",
      "Epoch 40/50\n",
      "938/938 [==============================] - 39s 41ms/step - loss: 0.3615 - val_loss: 0.9435\n",
      "Epoch 41/50\n",
      "938/938 [==============================] - 39s 41ms/step - loss: 0.3595 - val_loss: 0.9459\n",
      "Epoch 42/50\n",
      "938/938 [==============================] - 39s 41ms/step - loss: 0.3575 - val_loss: 0.9404\n",
      "Epoch 43/50\n",
      "938/938 [==============================] - 39s 41ms/step - loss: 0.3553 - val_loss: 0.9506\n",
      "Epoch 44/50\n",
      "938/938 [==============================] - 39s 41ms/step - loss: 0.3535 - val_loss: 0.9464\n",
      "Epoch 45/50\n",
      "938/938 [==============================] - 39s 41ms/step - loss: 0.3537 - val_loss: 0.9520\n",
      "Epoch 46/50\n",
      "938/938 [==============================] - 39s 41ms/step - loss: 0.3506 - val_loss: 0.9524\n",
      "Epoch 47/50\n",
      "938/938 [==============================] - 39s 41ms/step - loss: 0.3490 - val_loss: 0.9509\n",
      "Epoch 48/50\n",
      "938/938 [==============================] - 39s 41ms/step - loss: 0.3487 - val_loss: 0.9515\n",
      "Epoch 49/50\n",
      "938/938 [==============================] - 39s 41ms/step - loss: 0.3476 - val_loss: 0.9531\n",
      "Epoch 50/50\n",
      "938/938 [==============================] - 39s 41ms/step - loss: 0.3470 - val_loss: 0.9586\n"
     ]
    }
   ],
   "source": [
    "history = model.fit(x=[encoder_input_train, decoder_input_train],\n",
    "                    y=decoder_target_train,\n",
    "                    validation_data = ([encoder_input_test, decoder_input_test],decoder_target_test),\n",
    "                    batch_size=32,\n",
    "                    epochs=50)"
   ]
  },
  {
   "cell_type": "markdown",
   "id": "d9b3bc9f",
   "metadata": {},
   "source": [
    "validation loss graph로 확인하기"
   ]
  },
  {
   "cell_type": "code",
   "execution_count": 23,
   "id": "709a06d5",
   "metadata": {},
   "outputs": [
    {
     "data": {
      "image/png": "[encoded data removed]",
      "text/plain": [
       "<Figure size 432x288 with 1 Axes>"
      ]
     },
     "metadata": {
      "needs_background": "light"
     },
     "output_type": "display_data"
    }
   ],
   "source": [
    "plt.plot(history.history['loss'])\n",
    "plt.plot(history.history['val_loss'])\n",
    "plt.title('Model loss')\n",
    "plt.xlabel('Epoch')\n",
    "plt.ylabel('Loss')\n",
    "plt.legend(['Train', 'Validation'], loc='upper left')\n",
    "plt.show()"
   ]
  },
  {
   "cell_type": "markdown",
   "id": "12025c5c",
   "metadata": {},
   "source": [
    "## 모델 구현하기\n",
    "#### Encoder"
   ]
  },
  {
   "cell_type": "code",
   "execution_count": 24,
   "id": "19efaf09",
   "metadata": {},
   "outputs": [
    {
     "name": "stdout",
     "output_type": "stream",
     "text": [
      "Model: \"model_1\"\n",
      "_________________________________________________________________\n",
      "Layer (type)                 Output Shape              Param #   \n",
      "=================================================================\n",
      "encoder_input (InputLayer)   [(None, None)]            0         \n",
      "_________________________________________________________________\n",
      "embedding (Embedding)        (None, None, 1024)        5934080   \n",
      "_________________________________________________________________\n",
      "masking (Masking)            (None, None, 1024)        0         \n",
      "_________________________________________________________________\n",
      "lstm (LSTM)                  [(None, 1024), (None, 102 8392704   \n",
      "=================================================================\n",
      "Total params: 14,326,784\n",
      "Trainable params: 14,326,784\n",
      "Non-trainable params: 0\n",
      "_________________________________________________________________\n"
     ]
    }
   ],
   "source": [
    "encoder_model = Model(inputs=encoder_inputs, outputs = encoder_states)\n",
    "encoder_model.summary()"
   ]
  },
  {
   "cell_type": "markdown",
   "id": "76a8188e",
   "metadata": {},
   "source": [
    "#### Decoder"
   ]
  },
  {
   "cell_type": "code",
   "execution_count": 25,
   "id": "54dc0736",
   "metadata": {},
   "outputs": [],
   "source": [
    "decoder_state_input_h = Input(shape=(embedding_size,))\n",
    "decoder_state_input_c = Input(shape=(embedding_size,))\n",
    "decoder_states_inputs = [decoder_state_input_h, decoder_state_input_c]\n",
    "\n",
    "dec_emb2 = Embedding(fra_vocab_size, embedding_size)(decoder_inputs)\n",
    "decoder_outputs2, state_h2, state_c2 = decoder_lstm(dec_emb2, initial_state = decoder_states_inputs)\n",
    "decoder_states2 = [state_h2, state_c2]\n",
    "\n",
    "decoder_outputs2 = decoder_softmax_layer(decoder_outputs2)"
   ]
  },
  {
   "cell_type": "code",
   "execution_count": 26,
   "id": "f6adc779",
   "metadata": {},
   "outputs": [],
   "source": [
    "eng2idx = eng_tokenizer.word_index\n",
    "fra2idx = fra_tokenizer.word_index\n",
    "idx2eng = eng_tokenizer.index_word\n",
    "idx2fra = fra_tokenizer.index_word"
   ]
  },
  {
   "cell_type": "code",
   "execution_count": 27,
   "id": "160fefd0",
   "metadata": {},
   "outputs": [
    {
     "name": "stdout",
     "output_type": "stream",
     "text": [
      "Model: \"model_2\"\n",
      "__________________________________________________________________________________________________\n",
      "Layer (type)                    Output Shape         Param #     Connected to                     \n",
      "==================================================================================================\n",
      "decoder_input (InputLayer)      [(None, None)]       0                                            \n",
      "__________________________________________________________________________________________________\n",
      "embedding_2 (Embedding)         (None, None, 1024)   8496128     decoder_input[0][0]              \n",
      "__________________________________________________________________________________________________\n",
      "input_1 (InputLayer)            [(None, 1024)]       0                                            \n",
      "__________________________________________________________________________________________________\n",
      "input_2 (InputLayer)            [(None, 1024)]       0                                            \n",
      "__________________________________________________________________________________________________\n",
      "lstm_1 (LSTM)                   [(None, None, 1024), 8392704     embedding_2[0][0]                \n",
      "                                                                 input_1[0][0]                    \n",
      "                                                                 input_2[0][0]                    \n",
      "__________________________________________________________________________________________________\n",
      "dense (Dense)                   (None, None, 8297)   8504425     lstm_1[1][0]                     \n",
      "==================================================================================================\n",
      "Total params: 25,393,257\n",
      "Trainable params: 25,393,257\n",
      "Non-trainable params: 0\n",
      "__________________________________________________________________________________________________\n"
     ]
    }
   ],
   "source": [
    "decoder_model = Model(inputs=[decoder_inputs] + decoder_states_inputs, outputs=[decoder_outputs2]+decoder_states2)\n",
    "decoder_model.summary()"
   ]
  },
  {
   "cell_type": "code",
   "execution_count": 28,
   "id": "7f0f06c7",
   "metadata": {},
   "outputs": [],
   "source": [
    "def decode_sequence(input_seq):\n",
    "    # 입력으로부터 인코더의 상태를 얻음\n",
    "    states_value = encoder_model.predict(input_seq)\n",
    "\n",
    "    # <start>에 해당하는 원-핫 벡터 생성\n",
    "    target_seq = np.zeros((1,1))\n",
    "    target_seq[0, 0] = fra2idx['<start>']\n",
    "    \n",
    "    stop_condition = False\n",
    "    decoded_sentence = \"\"\n",
    "\n",
    "    # stop_condition이 True가 될 때까지 루프 반복\n",
    "    while not stop_condition:\n",
    "        # 이점 시점의 상태 states_value를 현 시점의 초기 상태로 사용\n",
    "        output_tokens, h, c = decoder_model.predict([target_seq] + states_value)\n",
    "\n",
    "        # 예측 결과를 문자로 변환\n",
    "        sampled_token_index = np.argmax(output_tokens[0, -1, :])\n",
    "        sampled_char = idx2fra[sampled_token_index]\n",
    "\n",
    "        # 현재 시점의 예측 문자를 예측 문장에 추가\n",
    "        decoded_sentence += ' '+sampled_char\n",
    "\n",
    "        # <eos>에 도달하거나 최대 길이를 넘으면 중단.\n",
    "        if (sampled_char == '<end>' or\n",
    "           len(decoded_sentence) > max_fra_seq_len):\n",
    "            stop_condition = True\n",
    "\n",
    "        # 현재 시점의 예측 결과를 다음 시점의 입력으로 사용하기 위해 저장\n",
    "        target_seq = np.zeros((1, 1))\n",
    "        target_seq[0, 0] = sampled_token_index\n",
    "\n",
    "        # 현재 시점의 상태를 다음 시점의 상태로 사용하기 위해 저장\n",
    "        states_value = [h, c]\n",
    "\n",
    "    return decoded_sentence"
   ]
  },
  {
   "cell_type": "code",
   "execution_count": 29,
   "id": "16e6bad3",
   "metadata": {},
   "outputs": [],
   "source": [
    "# 원문의 정수 시퀀스를 텍스트 시퀀스로 변환\n",
    "def seq2src(input_seq):\n",
    "    temp=''\n",
    "    for i in input_seq:\n",
    "        if(i!=0):\n",
    "            temp = temp + idx2eng[i]+' '\n",
    "    return temp"
   ]
  },
  {
   "cell_type": "code",
   "execution_count": 30,
   "id": "b334829e",
   "metadata": {},
   "outputs": [],
   "source": [
    "# 번역문의 정수 시퀀스를 텍스트 시퀀스로 변환\n",
    "def seq2tar(input_seq):\n",
    "    temp=''\n",
    "    for i in input_seq:\n",
    "        if((i!=0 and i!=fra2idx['<start>']) and i!=fra2idx['<end>']):\n",
    "            temp = temp + idx2fra[i] + ' '\n",
    "    return temp"
   ]
  },
  {
   "cell_type": "markdown",
   "id": "cf2f8d90",
   "metadata": {},
   "source": [
    "## 모델 평가하기"
   ]
  },
  {
   "cell_type": "code",
   "execution_count": 33,
   "id": "45f35ed8",
   "metadata": {},
   "outputs": [
    {
     "name": "stdout",
     "output_type": "stream",
     "text": [
      "-----------------------------------\n",
      "입력 문장: i remember your father . \n",
      "정답 문장: je me rappelle de votre p re . \n",
      "번역기가 번역한 문장:  je me me ton ton to\n",
      "-----------------------------------\n",
      "입력 문장: i always eat breakfast . \n",
      "정답 문장: je prends toujours un petit d jeuner . \n",
      "번역기가 번역한 문장:  je tudie encore qu\n",
      "-----------------------------------\n",
      "입력 문장: she was very rude to him . \n",
      "정답 문장: elle a t tr s grossi re son gard . \n",
      "번역기가 번역한 문장:  elle fut l de so\n",
      "-----------------------------------\n",
      "입력 문장: we d make a perfect team . \n",
      "정답 문장: nous <unk> une parfaite quipe . \n",
      "번역기가 번역한 문장:  nous nous un un u\n",
      "-----------------------------------\n",
      "입력 문장: do you have a solution ? \n",
      "정답 문장: as tu une solution ? \n",
      "번역기가 번역한 문장:  avez tu une la ? \n"
     ]
    }
   ],
   "source": [
    "for seq_index in [4,153,576,1358,2883]:\n",
    "    input_seq = encoder_input_test[seq_index: seq_index + 1]\n",
    "    decoded_sentence = decode_sequence(input_seq)\n",
    "    print(35 * \"-\")\n",
    "    print('입력 문장:', seq2src(encoder_input_test[seq_index]))\n",
    "    print('정답 문장:', seq2tar(decoder_input_test[seq_index]))\n",
    "    print('번역기가 번역한 문장:', decoded_sentence[:len(decoded_sentence)-1])"
   ]
  },
  {
   "cell_type": "markdown",
   "id": "9654bd67",
   "metadata": {},
   "source": [
    "모델이 생성한 문장을 하나씩 비교하면서 보겠습니다.\n",
    "1.\n",
    "I remember your father -> 나는 너의 아빠를 믿는다\n",
    "je me me ton ton to ->나는 머리를 숙이고 있다\n",
    "2.\n",
    "I always eat breakfast -> 나는 항상 아침을 먹는다\n",
    "je tudie encore qu ->(번역이 올바르게 되지 않음)\n",
    "3.\n",
    "she was very rude to him ->그녀는 그에게 매우 무례했습니다\n",
    "elle fut I de so -> 그 여자는 소원이었다\n",
    "4.\n",
    "we d make a perfect team. ->우리는 완벽한 팀을 만들었습니다\n",
    "nous nous un un u -> 단결하다\n",
    "5.\n",
    "do you have a solution? ->해결책이 있습니까?\n",
    "avez tu une la? ->avez tu une la\n",
    "\n",
    "다음과 같이 볼 수 있고 변역한 결과를 본다면 학습이 잘 이루어 지지 않았음을 알 수 있습니다.\n",
    "학습의 하이퍼파라미터라 볼 수 있는 embedding size와 hidden_size의 값을 변경해주면서 실험을 했지만 유의미한 결과를 볼 수 없었습니다.\n",
    "Exploration에서 자연어 부분을 할땐 추가적인 공부가 필요하다고 생각합니다.\n",
    "다음과 같은 학습을 더 잘 하기 위해 어떤 것이 필요한지 조금 더 생각해 볼 필요가 있습니다."
   ]
  }
 ],
 "metadata": {
  "kernelspec": {
   "display_name": "Python 3 (ipykernel)",
   "language": "python",
   "name": "python3"
  },
  "language_info": {
   "codemirror_mode": {
    "name": "ipython",
    "version": 3
   },
   "file_extension": ".py",
   "mimetype": "text/x-python",
   "name": "python",
   "nbconvert_exporter": "python",
   "pygments_lexer": "ipython3",
   "version": "3.9.7"
  }
 },
 "nbformat": 4,
 "nbformat_minor": 5
}
