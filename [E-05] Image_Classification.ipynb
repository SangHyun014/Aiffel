{
 "cells": [
  {
   "attachments": {},
   "cell_type": "markdown",
   "metadata": {},
   "source": [
    "# 루브릭\n",
    "1. 이미지 분류기 모델이 성공적으로 만들어졌는가?\n",
    "    - 학습 과정이 정상적으로 수행되었으며, 학습 결과에 따른 시각화(ex. train acc, val acc, train loss, val loss 등) 해 보았음.\n",
    "2. 오버피팅을 극복하기 위한 적절한 시도가 있었는가?\n",
    "    - 오버피팅 극복을 위하여 데이터셋의 다양성, 정규화 등 2가지 이상 시도해보았음.\n",
    "3. 분류모델의 test accuracy가 기준 이상 높게 나왔는가?\n",
    "    - 60% 이상 도달하였음."
   ]
  },
  {
   "attachments": {},
   "cell_type": "markdown",
   "metadata": {},
   "source": [
    "### 필요한 라이브러리 불러오기"
   ]
  },
  {
   "cell_type": "code",
   "execution_count": 1,
   "metadata": {},
   "outputs": [],
   "source": [
    "import tensorflow as tf\n",
    "import numpy as np\n",
    "from PIL import Image\n",
    "import glob\n",
    "import os\n",
    "import matplotlib.pyplot as plt"
   ]
  },
  {
   "attachments": {},
   "cell_type": "markdown",
   "metadata": {},
   "source": [
    "### 필요한 함수 생성하기"
   ]
  },
  {
   "cell_type": "code",
   "execution_count": 2,
   "metadata": {},
   "outputs": [],
   "source": [
    "def resize_images(img_path):\n",
    "    images=glob.glob(img_path + \"/*.jpg\")  \n",
    "    \n",
    "    print(len(images), \" images to be resized.\")\n",
    "\n",
    "    # 파일마다 모두 28x28 사이즈로 바꾸어 저장합니다.\n",
    "    target_size=(28,28)\n",
    "    for img in images:\n",
    "        old_img=Image.open(img)\n",
    "        new_img=old_img.resize(target_size,Image.ANTIALIAS)\n",
    "        new_img.save(img, \"JPEG\")\n",
    "    \n",
    "    print(len(images), \" images resized.\")"
   ]
  },
  {
   "attachments": {},
   "cell_type": "markdown",
   "metadata": {},
   "source": [
    "train과 test data의 이미지가 300x300에 해상도를 가지고 있어 학습을 하게 되면, 높은 결과를 보여주어 CNN 공부를 하는데 있어, 효과가 없었다.\n",
    "따라서, 이를 28x28로 resize를 해주어 학습 실험을 진행하였다."
   ]
  },
  {
   "cell_type": "code",
   "execution_count": 3,
   "metadata": {},
   "outputs": [],
   "source": [
    "def load_data(img_path, number_of_data=840*3):  # 가위바위보 이미지 개수 총합에 주의하세요.\n",
    "    # 가위 : 0, 바위 : 1, 보 : 2\n",
    "    img_size=28\n",
    "    color=3\n",
    "    #이미지 데이터와 라벨(가위 : 0, 바위 : 1, 보 : 2) 데이터를 담을 행렬(matrix) 영역을 생성합니다.\n",
    "    imgs=np.zeros(number_of_data*img_size*img_size*color,dtype=np.int32).reshape(number_of_data,img_size,img_size,color)\n",
    "    labels=np.zeros(number_of_data,dtype=np.int32)\n",
    "\n",
    "    idx=0\n",
    "    for file in glob.iglob(img_path+'/scissor/*.jpg'):\n",
    "        img = np.array(Image.open(file),dtype=np.int32)\n",
    "        imgs[idx,:,:,:]=img    # 데이터 영역에 이미지 행렬을 복사\n",
    "        labels[idx]=0   # 가위 : 0\n",
    "        idx=idx+1\n",
    "\n",
    "    for file in glob.iglob(img_path+'/rock/*.jpg'):\n",
    "        img = np.array(Image.open(file),dtype=np.int32)\n",
    "        imgs[idx,:,:,:]=img    # 데이터 영역에 이미지 행렬을 복사\n",
    "        labels[idx]=1   # 바위 : 1\n",
    "        idx=idx+1  \n",
    "    \n",
    "    for file in glob.iglob(img_path+'/paper/*.jpg'):\n",
    "        img = np.array(Image.open(file),dtype=np.int32)\n",
    "        imgs[idx,:,:,:]=img    # 데이터 영역에 이미지 행렬을 복사\n",
    "        labels[idx]=2   # 보 : 2\n",
    "        idx=idx+1\n",
    "        \n",
    "    print(\"이미지 개수는\", idx,\"입니다.\")\n",
    "    return imgs, labels"
   ]
  },
  {
   "cell_type": "code",
   "execution_count": 4,
   "metadata": {},
   "outputs": [
    {
     "name": "stdout",
     "output_type": "stream",
     "text": [
      "840  images to be resized.\n"
     ]
    },
    {
     "name": "stderr",
     "output_type": "stream",
     "text": [
      "C:\\Users\\tkdgu\\AppData\\Local\\Temp\\ipykernel_18416\\3840000890.py:10: DeprecationWarning: ANTIALIAS is deprecated and will be removed in Pillow 10 (2023-07-01). Use Resampling.LANCZOS instead.\n",
      "  new_img=old_img.resize(target_size,Image.ANTIALIAS)\n"
     ]
    },
    {
     "name": "stdout",
     "output_type": "stream",
     "text": [
      "840  images resized.\n"
     ]
    }
   ],
   "source": [
    "# 고해상도 이미지에는 성능이 좋게 나오기 때문에 해상도를 낮추어 여러 실험을 진행하며 하이퍼파라미터 수정을 하자.\n",
    "\n",
    "# 이미지 resize\n",
    "image_dir_path = \"data/train/scissors\"\n",
    "# 파일마다 모두 28x28 사이즈로 바꾸어 저장합니다.\n",
    "resize_images(image_dir_path)"
   ]
  },
  {
   "cell_type": "code",
   "execution_count": 5,
   "metadata": {},
   "outputs": [
    {
     "name": "stdout",
     "output_type": "stream",
     "text": [
      "이미지 개수는 1680 입니다.\n"
     ]
    }
   ],
   "source": [
    "(x_train, y_train)=load_data('data/train')"
   ]
  },
  {
   "cell_type": "code",
   "execution_count": 6,
   "metadata": {},
   "outputs": [],
   "source": [
    "x_train_norm = x_train/255.0"
   ]
  },
  {
   "attachments": {},
   "cell_type": "markdown",
   "metadata": {},
   "source": [
    "학습의 효과를 높여주기 위해 normalize(정규화)를 진행하였다. 이로 인해 학습 overfitting을 방지할 수 있다."
   ]
  },
  {
   "cell_type": "code",
   "execution_count": 7,
   "metadata": {},
   "outputs": [
    {
     "data": {
      "text/plain": [
       "(2520, 28, 28, 3)"
      ]
     },
     "execution_count": 7,
     "metadata": {},
     "output_type": "execute_result"
    }
   ],
   "source": [
    "x_train_norm.shape"
   ]
  },
  {
   "cell_type": "code",
   "execution_count": 8,
   "metadata": {},
   "outputs": [
    {
     "name": "stdout",
     "output_type": "stream",
     "text": [
      "라벨:  1\n"
     ]
    },
    {
     "data": {
      "image/png": "[encoded data removed]",
      "text/plain": [
       "<Figure size 640x480 with 1 Axes>"
      ]
     },
     "metadata": {},
     "output_type": "display_data"
    }
   ],
   "source": [
    "plt.imshow(x_train[0])\n",
    "print('라벨: ', y_train[0])"
   ]
  },
  {
   "attachments": {},
   "cell_type": "markdown",
   "metadata": {},
   "source": [
    "### 모델 생성"
   ]
  },
  {
   "cell_type": "code",
   "execution_count": 9,
   "metadata": {},
   "outputs": [
    {
     "name": "stdout",
     "output_type": "stream",
     "text": [
      "Model: \"sequential\"\n",
      "_________________________________________________________________\n",
      " Layer (type)                Output Shape              Param #   \n",
      "=================================================================\n",
      " conv2d (Conv2D)             (None, 26, 26, 16)        448       \n",
      "                                                                 \n",
      " max_pooling2d (MaxPooling2D  (None, 13, 13, 16)       0         \n",
      " )                                                               \n",
      "                                                                 \n",
      " conv2d_1 (Conv2D)           (None, 9, 9, 32)          12832     \n",
      "                                                                 \n",
      " max_pooling2d_1 (MaxPooling  (None, 4, 4, 32)         0         \n",
      " 2D)                                                             \n",
      "                                                                 \n",
      " flatten (Flatten)           (None, 512)               0         \n",
      "                                                                 \n",
      " dense (Dense)               (None, 10)                5130      \n",
      "                                                                 \n",
      " dropout (Dropout)           (None, 10)                0         \n",
      "                                                                 \n",
      " dense_1 (Dense)             (None, 3)                 33        \n",
      "                                                                 \n",
      "=================================================================\n",
      "Total params: 18,443\n",
      "Trainable params: 18,443\n",
      "Non-trainable params: 0\n",
      "_________________________________________________________________\n"
     ]
    }
   ],
   "source": [
    "import tensorflow as tf\n",
    "from tensorflow import keras\n",
    "\n",
    "\n",
    "model=keras.models.Sequential()\n",
    "model.add(keras.layers.Conv2D(16, (3,3), activation='relu', input_shape=(28,28,3)))\n",
    "model.add(keras.layers.MaxPool2D(2,2))\n",
    "model.add(keras.layers.Conv2D(32, (5,5), activation='relu'))\n",
    "model.add(keras.layers.MaxPooling2D((2,2)))\n",
    "model.add(keras.layers.Flatten())\n",
    "model.add(keras.layers.Dense(10, activation='relu')) #10, 50, 100으로 실험 진행 100:overfitting 발생\n",
    "model.add(keras.layers.Dropout(0.5)) #0.2, 0.5, 0.8 로 실험을 진행행\n",
    "model.add(keras.layers.Dense(3, activation='softmax'))\n",
    "\n",
    "model.summary()"
   ]
  },
  {
   "attachments": {},
   "cell_type": "markdown",
   "metadata": {},
   "source": [
    "우선 간단한 CNN 모델을 만들어보았다. 여러 층이 쌓여 있지만 내가 실험한 부분에 Dense layer와 Dropout 이다. Dense Layer 층을 10, 50, 100으로 실험을 진행해보았는데, 50과 100은 Overfitting이 발생하였고, Dropout은 0.5의 값이 적절한 결과를 보여주었다. Dropout Layer를 주석처리 했을 땐 Overfitting이 일어나 학습이 되지 않았다."
   ]
  },
  {
   "cell_type": "code",
   "execution_count": 10,
   "metadata": {},
   "outputs": [],
   "source": [
    "x_train_reshaped=x_train_norm.reshape( -1, 28, 28, 3)"
   ]
  },
  {
   "cell_type": "code",
   "execution_count": 11,
   "metadata": {},
   "outputs": [
    {
     "data": {
      "text/plain": [
       "(2520, 28, 28, 3)"
      ]
     },
     "execution_count": 11,
     "metadata": {},
     "output_type": "execute_result"
    }
   ],
   "source": [
    "x_train_reshaped.shape"
   ]
  },
  {
   "cell_type": "code",
   "execution_count": 12,
   "metadata": {},
   "outputs": [
    {
     "name": "stdout",
     "output_type": "stream",
     "text": [
      "Epoch 1/100\n",
      "79/79 [==============================] - 1s 13ms/step - loss: 0.8517 - accuracy: 0.6016\n",
      "Epoch 2/100\n",
      "79/79 [==============================] - 1s 12ms/step - loss: 0.4760 - accuracy: 0.7306\n",
      "Epoch 3/100\n",
      "79/79 [==============================] - 0s 5ms/step - loss: 0.3496 - accuracy: 0.8357\n",
      "Epoch 4/100\n",
      "79/79 [==============================] - 1s 9ms/step - loss: 0.3059 - accuracy: 0.8675\n",
      "Epoch 5/100\n",
      "79/79 [==============================] - 1s 12ms/step - loss: 0.2745 - accuracy: 0.8758\n",
      "Epoch 6/100\n",
      "79/79 [==============================] - 1s 9ms/step - loss: 0.2269 - accuracy: 0.8861\n",
      "Epoch 7/100\n",
      "79/79 [==============================] - 0s 6ms/step - loss: 0.1989 - accuracy: 0.8853\n",
      "Epoch 8/100\n",
      "79/79 [==============================] - 1s 8ms/step - loss: 0.1851 - accuracy: 0.8960\n",
      "Epoch 9/100\n",
      "79/79 [==============================] - 1s 8ms/step - loss: 0.1738 - accuracy: 0.9179\n",
      "Epoch 10/100\n",
      "79/79 [==============================] - 1s 8ms/step - loss: 0.1871 - accuracy: 0.9250\n",
      "Epoch 11/100\n",
      "79/79 [==============================] - 1s 8ms/step - loss: 0.1582 - accuracy: 0.9417\n",
      "Epoch 12/100\n",
      "79/79 [==============================] - 1s 7ms/step - loss: 0.1446 - accuracy: 0.9536\n",
      "Epoch 13/100\n",
      "79/79 [==============================] - 0s 5ms/step - loss: 0.1600 - accuracy: 0.9393\n",
      "Epoch 14/100\n",
      "79/79 [==============================] - 1s 8ms/step - loss: 0.1446 - accuracy: 0.9425\n",
      "Epoch 15/100\n",
      "79/79 [==============================] - 1s 7ms/step - loss: 0.1322 - accuracy: 0.9496\n",
      "Epoch 16/100\n",
      "79/79 [==============================] - 1s 10ms/step - loss: 0.1453 - accuracy: 0.9397\n",
      "Epoch 17/100\n",
      "79/79 [==============================] - 1s 7ms/step - loss: 0.1342 - accuracy: 0.9433\n",
      "Epoch 18/100\n",
      "79/79 [==============================] - 1s 7ms/step - loss: 0.1417 - accuracy: 0.9448\n",
      "Epoch 19/100\n",
      "79/79 [==============================] - 0s 4ms/step - loss: 0.1356 - accuracy: 0.9433\n",
      "Epoch 20/100\n",
      "79/79 [==============================] - 0s 5ms/step - loss: 0.1311 - accuracy: 0.9440\n",
      "Epoch 21/100\n",
      "79/79 [==============================] - 0s 5ms/step - loss: 0.1289 - accuracy: 0.9492\n",
      "Epoch 22/100\n",
      "79/79 [==============================] - 0s 4ms/step - loss: 0.1323 - accuracy: 0.9472\n",
      "Epoch 23/100\n",
      "79/79 [==============================] - 0s 6ms/step - loss: 0.1399 - accuracy: 0.9421\n",
      "Epoch 24/100\n",
      "79/79 [==============================] - 0s 6ms/step - loss: 0.1379 - accuracy: 0.9409\n",
      "Epoch 25/100\n",
      "79/79 [==============================] - 0s 4ms/step - loss: 0.1455 - accuracy: 0.9377\n",
      "Epoch 26/100\n",
      "79/79 [==============================] - 0s 5ms/step - loss: 0.1399 - accuracy: 0.9417\n",
      "Epoch 27/100\n",
      "79/79 [==============================] - 0s 5ms/step - loss: 0.1234 - accuracy: 0.9512\n",
      "Epoch 28/100\n",
      "79/79 [==============================] - 0s 5ms/step - loss: 0.1183 - accuracy: 0.9532\n",
      "Epoch 29/100\n",
      "79/79 [==============================] - 1s 9ms/step - loss: 0.1338 - accuracy: 0.9405\n",
      "Epoch 30/100\n",
      "79/79 [==============================] - 1s 8ms/step - loss: 0.1267 - accuracy: 0.9464\n",
      "Epoch 31/100\n",
      "79/79 [==============================] - 1s 9ms/step - loss: 0.1215 - accuracy: 0.9504\n",
      "Epoch 32/100\n",
      "79/79 [==============================] - 1s 10ms/step - loss: 0.1203 - accuracy: 0.9520\n",
      "Epoch 33/100\n",
      "79/79 [==============================] - 1s 7ms/step - loss: 0.1280 - accuracy: 0.9437\n",
      "Epoch 34/100\n",
      "79/79 [==============================] - 0s 6ms/step - loss: 0.1167 - accuracy: 0.9516\n",
      "Epoch 35/100\n",
      "79/79 [==============================] - 0s 4ms/step - loss: 0.1117 - accuracy: 0.9532\n",
      "Epoch 36/100\n",
      "79/79 [==============================] - 0s 6ms/step - loss: 0.1361 - accuracy: 0.9417\n",
      "Epoch 37/100\n",
      "79/79 [==============================] - 0s 5ms/step - loss: 0.1314 - accuracy: 0.9425\n",
      "Epoch 38/100\n",
      "79/79 [==============================] - 0s 5ms/step - loss: 0.1333 - accuracy: 0.9440\n",
      "Epoch 39/100\n",
      "79/79 [==============================] - 1s 6ms/step - loss: 0.1283 - accuracy: 0.9444\n",
      "Epoch 40/100\n",
      "79/79 [==============================] - 0s 4ms/step - loss: 0.1349 - accuracy: 0.9437\n",
      "Epoch 41/100\n",
      "79/79 [==============================] - 0s 5ms/step - loss: 0.1312 - accuracy: 0.9405\n",
      "Epoch 42/100\n",
      "79/79 [==============================] - 0s 6ms/step - loss: 0.1213 - accuracy: 0.9452\n",
      "Epoch 43/100\n",
      "79/79 [==============================] - 0s 4ms/step - loss: 0.1148 - accuracy: 0.9548\n",
      "Epoch 44/100\n",
      "79/79 [==============================] - 0s 5ms/step - loss: 0.1216 - accuracy: 0.9448\n",
      "Epoch 45/100\n",
      "79/79 [==============================] - 1s 7ms/step - loss: 0.1327 - accuracy: 0.9437\n",
      "Epoch 46/100\n",
      "79/79 [==============================] - 0s 5ms/step - loss: 0.1129 - accuracy: 0.9560\n",
      "Epoch 47/100\n",
      "79/79 [==============================] - 1s 7ms/step - loss: 0.1218 - accuracy: 0.9484\n",
      "Epoch 48/100\n",
      "79/79 [==============================] - 1s 8ms/step - loss: 0.1196 - accuracy: 0.9504\n",
      "Epoch 49/100\n",
      "79/79 [==============================] - 1s 11ms/step - loss: 0.1258 - accuracy: 0.9452\n",
      "Epoch 50/100\n",
      "79/79 [==============================] - 1s 8ms/step - loss: 0.1090 - accuracy: 0.9532\n",
      "Epoch 51/100\n",
      "79/79 [==============================] - 1s 10ms/step - loss: 0.1119 - accuracy: 0.9571\n",
      "Epoch 52/100\n",
      "79/79 [==============================] - 1s 10ms/step - loss: 0.1078 - accuracy: 0.9532\n",
      "Epoch 53/100\n",
      "79/79 [==============================] - 1s 8ms/step - loss: 0.1155 - accuracy: 0.9496\n",
      "Epoch 54/100\n",
      "79/79 [==============================] - 1s 8ms/step - loss: 0.1194 - accuracy: 0.9520\n",
      "Epoch 55/100\n",
      "79/79 [==============================] - 1s 10ms/step - loss: 0.1153 - accuracy: 0.9556\n",
      "Epoch 56/100\n",
      "79/79 [==============================] - 0s 4ms/step - loss: 0.1206 - accuracy: 0.9472\n",
      "Epoch 57/100\n",
      "79/79 [==============================] - 0s 4ms/step - loss: 0.1118 - accuracy: 0.9520\n",
      "Epoch 58/100\n",
      "79/79 [==============================] - 1s 7ms/step - loss: 0.1361 - accuracy: 0.9484\n",
      "Epoch 59/100\n",
      "79/79 [==============================] - 0s 4ms/step - loss: 0.1178 - accuracy: 0.9540\n",
      "Epoch 60/100\n",
      "79/79 [==============================] - 0s 6ms/step - loss: 0.1155 - accuracy: 0.9575\n",
      "Epoch 61/100\n",
      "79/79 [==============================] - 1s 8ms/step - loss: 0.1233 - accuracy: 0.9512\n",
      "Epoch 62/100\n",
      "79/79 [==============================] - 1s 7ms/step - loss: 0.1522 - accuracy: 0.9373\n",
      "Epoch 63/100\n",
      "79/79 [==============================] - 1s 7ms/step - loss: 0.1524 - accuracy: 0.9337\n",
      "Epoch 64/100\n",
      "79/79 [==============================] - 1s 6ms/step - loss: 0.1494 - accuracy: 0.9321\n",
      "Epoch 65/100\n",
      "79/79 [==============================] - 0s 6ms/step - loss: 0.1298 - accuracy: 0.9401\n",
      "Epoch 66/100\n",
      "79/79 [==============================] - 0s 5ms/step - loss: 0.1447 - accuracy: 0.9341\n",
      "Epoch 67/100\n",
      "79/79 [==============================] - 0s 4ms/step - loss: 0.1509 - accuracy: 0.9306\n",
      "Epoch 68/100\n",
      "79/79 [==============================] - 0s 5ms/step - loss: 0.1502 - accuracy: 0.9298\n",
      "Epoch 69/100\n",
      "79/79 [==============================] - 0s 5ms/step - loss: 0.1438 - accuracy: 0.9341\n",
      "Epoch 70/100\n",
      "79/79 [==============================] - 0s 4ms/step - loss: 0.1237 - accuracy: 0.9456\n",
      "Epoch 71/100\n",
      "79/79 [==============================] - 0s 4ms/step - loss: 0.1417 - accuracy: 0.9369\n",
      "Epoch 72/100\n",
      "79/79 [==============================] - 0s 6ms/step - loss: 0.1302 - accuracy: 0.9401\n",
      "Epoch 73/100\n",
      "79/79 [==============================] - 0s 4ms/step - loss: 0.1404 - accuracy: 0.9369\n",
      "Epoch 74/100\n",
      "79/79 [==============================] - 0s 5ms/step - loss: 0.1432 - accuracy: 0.9409\n",
      "Epoch 75/100\n",
      "79/79 [==============================] - 0s 5ms/step - loss: 0.1290 - accuracy: 0.9540\n",
      "Epoch 76/100\n",
      "79/79 [==============================] - 0s 4ms/step - loss: 0.1135 - accuracy: 0.9591\n",
      "Epoch 77/100\n",
      "79/79 [==============================] - 0s 4ms/step - loss: 0.1152 - accuracy: 0.9579\n",
      "Epoch 78/100\n",
      "79/79 [==============================] - 1s 7ms/step - loss: 0.1150 - accuracy: 0.9595\n",
      "Epoch 79/100\n",
      "79/79 [==============================] - 0s 6ms/step - loss: 0.1129 - accuracy: 0.9611\n",
      "Epoch 80/100\n",
      "79/79 [==============================] - 1s 13ms/step - loss: 0.1131 - accuracy: 0.9607\n",
      "Epoch 81/100\n",
      "79/79 [==============================] - 0s 6ms/step - loss: 0.1205 - accuracy: 0.9556\n",
      "Epoch 82/100\n",
      "79/79 [==============================] - 1s 14ms/step - loss: 0.1248 - accuracy: 0.9536\n",
      "Epoch 83/100\n",
      "79/79 [==============================] - 2s 20ms/step - loss: 0.1235 - accuracy: 0.9599\n",
      "Epoch 84/100\n",
      "79/79 [==============================] - 1s 13ms/step - loss: 0.1154 - accuracy: 0.9607\n",
      "Epoch 85/100\n",
      "79/79 [==============================] - 0s 6ms/step - loss: 0.1188 - accuracy: 0.9591\n",
      "Epoch 86/100\n",
      "79/79 [==============================] - 0s 4ms/step - loss: 0.1108 - accuracy: 0.9639\n",
      "Epoch 87/100\n",
      "79/79 [==============================] - 1s 11ms/step - loss: 0.1126 - accuracy: 0.9623\n",
      "Epoch 88/100\n",
      "79/79 [==============================] - 2s 19ms/step - loss: 0.1169 - accuracy: 0.9595\n",
      "Epoch 89/100\n",
      "79/79 [==============================] - 1s 18ms/step - loss: 0.1384 - accuracy: 0.9512\n",
      "Epoch 90/100\n",
      "79/79 [==============================] - 2s 24ms/step - loss: 0.1171 - accuracy: 0.9611\n",
      "Epoch 91/100\n",
      "79/79 [==============================] - 1s 17ms/step - loss: 0.1056 - accuracy: 0.9651\n",
      "Epoch 92/100\n",
      "79/79 [==============================] - 1s 6ms/step - loss: 0.1160 - accuracy: 0.9603\n",
      "Epoch 93/100\n",
      "79/79 [==============================] - 1s 12ms/step - loss: 0.1299 - accuracy: 0.9516\n",
      "Epoch 94/100\n",
      "79/79 [==============================] - 1s 9ms/step - loss: 0.1278 - accuracy: 0.9548\n",
      "Epoch 95/100\n",
      "79/79 [==============================] - 0s 5ms/step - loss: 0.1132 - accuracy: 0.9631\n",
      "Epoch 96/100\n",
      "79/79 [==============================] - 1s 10ms/step - loss: 0.1118 - accuracy: 0.9607\n",
      "Epoch 97/100\n",
      "79/79 [==============================] - 0s 5ms/step - loss: 0.1132 - accuracy: 0.9623\n",
      "Epoch 98/100\n",
      "79/79 [==============================] - 0s 5ms/step - loss: 0.1183 - accuracy: 0.9579\n",
      "Epoch 99/100\n",
      "79/79 [==============================] - 1s 9ms/step - loss: 0.1212 - accuracy: 0.9536\n",
      "Epoch 100/100\n",
      "79/79 [==============================] - 0s 5ms/step - loss: 0.1166 - accuracy: 0.9595\n"
     ]
    }
   ],
   "source": [
    "model.compile(optimizer='adam',\n",
    "             loss='sparse_categorical_crossentropy',\n",
    "             metrics=['accuracy'])\n",
    "\n",
    "history = model.fit(x_train_reshaped, y_train, epochs=100)"
   ]
  },
  {
   "cell_type": "code",
   "execution_count": 13,
   "metadata": {},
   "outputs": [
    {
     "data": {
      "text/plain": [
       "{'loss': [0.8517175912857056,\n",
       "  0.475994735956192,\n",
       "  0.3495890200138092,\n",
       "  0.3059043884277344,\n",
       "  0.27450767159461975,\n",
       "  0.22692875564098358,\n",
       "  0.1989433616399765,\n",
       "  0.18513834476470947,\n",
       "  0.17380863428115845,\n",
       "  0.18707171082496643,\n",
       "  0.15824854373931885,\n",
       "  0.1446254402399063,\n",
       "  0.16004565358161926,\n",
       "  0.14461712539196014,\n",
       "  0.13222810626029968,\n",
       "  0.14527365565299988,\n",
       "  0.13416334986686707,\n",
       "  0.14172978699207306,\n",
       "  0.13558469712734222,\n",
       "  0.13111793994903564,\n",
       "  0.12887915968894958,\n",
       "  0.1323409527540207,\n",
       "  0.13990099728107452,\n",
       "  0.1378536820411682,\n",
       "  0.14549200236797333,\n",
       "  0.13992498815059662,\n",
       "  0.12340153008699417,\n",
       "  0.11832091212272644,\n",
       "  0.13375650346279144,\n",
       "  0.1267234981060028,\n",
       "  0.1214752197265625,\n",
       "  0.12032653391361237,\n",
       "  0.1280367374420166,\n",
       "  0.11670016497373581,\n",
       "  0.11169909685850143,\n",
       "  0.13609889149665833,\n",
       "  0.13140828907489777,\n",
       "  0.13332301378250122,\n",
       "  0.12829993665218353,\n",
       "  0.13488410413265228,\n",
       "  0.1311541199684143,\n",
       "  0.12132280319929123,\n",
       "  0.11478737741708755,\n",
       "  0.12155354768037796,\n",
       "  0.13270927965641022,\n",
       "  0.11285460740327835,\n",
       "  0.12181354314088821,\n",
       "  0.11956633627414703,\n",
       "  0.1258399933576584,\n",
       "  0.10902538150548935,\n",
       "  0.11186345666646957,\n",
       "  0.10784389078617096,\n",
       "  0.11549991369247437,\n",
       "  0.11937256157398224,\n",
       "  0.11534304916858673,\n",
       "  0.1205533817410469,\n",
       "  0.11176204681396484,\n",
       "  0.1361243724822998,\n",
       "  0.11779382824897766,\n",
       "  0.11552634090185165,\n",
       "  0.12334701418876648,\n",
       "  0.15221939980983734,\n",
       "  0.15242400765419006,\n",
       "  0.14936769008636475,\n",
       "  0.12978249788284302,\n",
       "  0.14465917646884918,\n",
       "  0.1509205400943756,\n",
       "  0.15018080174922943,\n",
       "  0.14379411935806274,\n",
       "  0.1237209364771843,\n",
       "  0.14168553054332733,\n",
       "  0.13023416697978973,\n",
       "  0.14037904143333435,\n",
       "  0.1432456225156784,\n",
       "  0.12902794778347015,\n",
       "  0.11348731815814972,\n",
       "  0.11519947648048401,\n",
       "  0.1149928867816925,\n",
       "  0.11292963474988937,\n",
       "  0.11309124529361725,\n",
       "  0.12050587683916092,\n",
       "  0.12479108572006226,\n",
       "  0.12346525490283966,\n",
       "  0.11540821939706802,\n",
       "  0.11876126378774643,\n",
       "  0.11079021543264389,\n",
       "  0.1125660389661789,\n",
       "  0.11689897626638412,\n",
       "  0.13839034736156464,\n",
       "  0.11706292629241943,\n",
       "  0.10555659979581833,\n",
       "  0.11601940542459488,\n",
       "  0.12989641726016998,\n",
       "  0.12776139378547668,\n",
       "  0.1132027879357338,\n",
       "  0.11178360134363174,\n",
       "  0.11317544430494308,\n",
       "  0.11833562701940536,\n",
       "  0.12118034809827805,\n",
       "  0.11660473793745041],\n",
       " 'accuracy': [0.6015872955322266,\n",
       "  0.730555534362793,\n",
       "  0.8357142806053162,\n",
       "  0.867460310459137,\n",
       "  0.8757936358451843,\n",
       "  0.8861111402511597,\n",
       "  0.8853174448013306,\n",
       "  0.8960317373275757,\n",
       "  0.9178571701049805,\n",
       "  0.925000011920929,\n",
       "  0.9416666626930237,\n",
       "  0.9535714387893677,\n",
       "  0.9392856955528259,\n",
       "  0.942460298538208,\n",
       "  0.9496031999588013,\n",
       "  0.9396825432777405,\n",
       "  0.9432539939880371,\n",
       "  0.9448412656784058,\n",
       "  0.9432539939880371,\n",
       "  0.9440476298332214,\n",
       "  0.9492063522338867,\n",
       "  0.9472222328186035,\n",
       "  0.9420635104179382,\n",
       "  0.9408730268478394,\n",
       "  0.9376984238624573,\n",
       "  0.9416666626930237,\n",
       "  0.9511904716491699,\n",
       "  0.9531745910644531,\n",
       "  0.9404761791229248,\n",
       "  0.9464285969734192,\n",
       "  0.9503968358039856,\n",
       "  0.9519841074943542,\n",
       "  0.9436507821083069,\n",
       "  0.9515873193740845,\n",
       "  0.9531745910644531,\n",
       "  0.9416666626930237,\n",
       "  0.942460298538208,\n",
       "  0.9440476298332214,\n",
       "  0.9444444179534912,\n",
       "  0.9436507821083069,\n",
       "  0.9404761791229248,\n",
       "  0.9452381134033203,\n",
       "  0.9547619223594666,\n",
       "  0.9448412656784058,\n",
       "  0.9436507821083069,\n",
       "  0.9559524059295654,\n",
       "  0.9484127163887024,\n",
       "  0.9503968358039856,\n",
       "  0.9452381134033203,\n",
       "  0.9531745910644531,\n",
       "  0.9571428298950195,\n",
       "  0.9531745910644531,\n",
       "  0.9496031999588013,\n",
       "  0.9519841074943542,\n",
       "  0.9555555582046509,\n",
       "  0.9472222328186035,\n",
       "  0.9519841074943542,\n",
       "  0.9484127163887024,\n",
       "  0.9539682269096375,\n",
       "  0.9575396776199341,\n",
       "  0.9511904716491699,\n",
       "  0.9373015761375427,\n",
       "  0.9337301850318909,\n",
       "  0.9321428537368774,\n",
       "  0.940079391002655,\n",
       "  0.9341269731521606,\n",
       "  0.9305555820465088,\n",
       "  0.9297618865966797,\n",
       "  0.9341269731521606,\n",
       "  0.9456349015235901,\n",
       "  0.936904788017273,\n",
       "  0.940079391002655,\n",
       "  0.936904788017273,\n",
       "  0.9408730268478394,\n",
       "  0.9539682269096375,\n",
       "  0.9591270089149475,\n",
       "  0.9579365253448486,\n",
       "  0.9595237970352173,\n",
       "  0.9611111283302307,\n",
       "  0.9607142806053162,\n",
       "  0.9555555582046509,\n",
       "  0.9535714387893677,\n",
       "  0.9599206447601318,\n",
       "  0.9607142806053162,\n",
       "  0.9591270089149475,\n",
       "  0.9638888835906982,\n",
       "  0.9623016119003296,\n",
       "  0.9595237970352173,\n",
       "  0.9511904716491699,\n",
       "  0.9611111283302307,\n",
       "  0.9650793671607971,\n",
       "  0.9603174328804016,\n",
       "  0.9515873193740845,\n",
       "  0.9547619223594666,\n",
       "  0.9630952477455139,\n",
       "  0.9607142806053162,\n",
       "  0.9623016119003296,\n",
       "  0.9579365253448486,\n",
       "  0.9535714387893677,\n",
       "  0.9595237970352173]}"
      ]
     },
     "execution_count": 13,
     "metadata": {},
     "output_type": "execute_result"
    }
   ],
   "source": [
    "history.history"
   ]
  },
  {
   "cell_type": "code",
   "execution_count": 14,
   "metadata": {},
   "outputs": [
    {
     "data": {
      "image/png": "[encoded data removed]",
      "text/plain": [
       "<Figure size 640x480 with 1 Axes>"
      ]
     },
     "metadata": {},
     "output_type": "display_data"
    }
   ],
   "source": [
    "plt.plot(history.history['accuracy'])\n",
    "plt.title('Model accuracy')\n",
    "plt.xlabel('Epoch')\n",
    "plt.ylabel('Accuracy')\n",
    "plt.legend(['Train'], loc='upper left')\n",
    "plt.show()"
   ]
  },
  {
   "cell_type": "code",
   "execution_count": 15,
   "metadata": {},
   "outputs": [
    {
     "data": {
      "image/png": "[encoded data removed]",
      "text/plain": [
       "<Figure size 640x480 with 1 Axes>"
      ]
     },
     "metadata": {},
     "output_type": "display_data"
    }
   ],
   "source": [
    "plt.plot(history.history['loss'])\n",
    "plt.title('Model loss')\n",
    "plt.xlabel('Epoch')\n",
    "plt.ylabel('Loss')\n",
    "plt.legend(['Train'], loc='upper left')\n",
    "plt.show()"
   ]
  },
  {
   "attachments": {},
   "cell_type": "markdown",
   "metadata": {},
   "source": [
    "ACC, Loss 그래프에서 볼 수 있듯이 학습이 잘 되었고, Dropout/Normalize 등 기법들을 사용하여 Overfitting이 방지되었다."
   ]
  },
  {
   "cell_type": "code",
   "execution_count": 16,
   "metadata": {},
   "outputs": [
    {
     "name": "stdout",
     "output_type": "stream",
     "text": [
      "이미지 개수는 266 입니다.\n"
     ]
    }
   ],
   "source": [
    "(x_test, y_test)=load_data('data/test')\n",
    "\n",
    "x_test_norm = x_test/255.0"
   ]
  },
  {
   "cell_type": "code",
   "execution_count": 17,
   "metadata": {},
   "outputs": [],
   "source": [
    "x_test_reshaped=x_test_norm.reshape( -1, 28, 28, 3)"
   ]
  },
  {
   "cell_type": "code",
   "execution_count": 18,
   "metadata": {},
   "outputs": [
    {
     "name": "stdout",
     "output_type": "stream",
     "text": [
      "79/79 - 0s - loss: 0.2095 - accuracy: 0.9841 - 396ms/epoch - 5ms/step\n",
      "test_loss: 0.20952260494232178\n",
      "test_accuracy: 0.9841269850730896\n"
     ]
    }
   ],
   "source": [
    "test_loss, test_accuracy = model.evaluate(x_test_reshaped,y_test, verbose=2)\n",
    "print(f\"test_loss: {test_loss}\")\n",
    "print(f\"test_accuracy: {test_accuracy}\")"
   ]
  },
  {
   "attachments": {},
   "cell_type": "markdown",
   "metadata": {},
   "source": [
    "우선 학습 결과를 그래프로 확인하였을 때 좋은 결과를 얻을 수 있었으며, Overfitting, 정규화, 그리고 처음 데이터양인 300장에서 약 2000장가량 늘려 학습을 했기때문에 Overfitting을 방지할 수 있었다. Overfitting은 딥러닝에서 잘 일어나는 것으로 여러가지로 해결을 하고있다. 추가적으로, 이후 ResNet에서도 Overfitting을 방지하는 기법이 하나가 소개가 된다."
   ]
  },
  {
   "attachments": {},
   "cell_type": "markdown",
   "metadata": {},
   "source": [
    "이 프로젝트를 통해 간단하지만 Overfitting의 해결법들을 알아볼 수 있었고 여러 실험을 통해 각 Layer들에 값이 변화할 때 어떻게 변하게 되는지 수치로 확인할 수 있었다."
   ]
  }
 ],
 "metadata": {
  "kernelspec": {
   "display_name": "yolo",
   "language": "python",
   "name": "python3"
  },
  "language_info": {
   "codemirror_mode": {
    "name": "ipython",
    "version": 3
   },
   "file_extension": ".py",
   "mimetype": "text/x-python",
   "name": "python",
   "nbconvert_exporter": "python",
   "pygments_lexer": "ipython3",
   "version": "3.10.8"
  },
  "orig_nbformat": 4
 },
 "nbformat": 4,
 "nbformat_minor": 2
}
